{
 "cells": [
  {
   "cell_type": "markdown",
   "metadata": {},
   "source": [
    "# Instancias con \\#gimnasios fija e instancias con \\#pokeparadas fija"
   ]
  },
  {
   "cell_type": "code",
   "execution_count": 1,
   "metadata": {
    "collapsed": true
   },
   "outputs": [],
   "source": [
    "# -*- coding: utf-8 -*-\n",
    "\n",
    "import pandas as pd\n",
    "import matplotlib.pyplot as plt\n",
    "import numpy as np\n",
    "\n",
    "plt.style.use('ggplot')"
   ]
  },
  {
   "cell_type": "markdown",
   "metadata": {},
   "source": [
    "## Lectura de archivos"
   ]
  },
  {
   "cell_type": "code",
   "execution_count": 2,
   "metadata": {
    "collapsed": false
   },
   "outputs": [],
   "source": [
    "cantGimFija = pd.read_csv('exp-ej3-cantGimFija-permutaYReemplazaPokeparadas.csv')\n",
    "cantPokFija = pd.read_csv('exp-ej3-cantPokFija-permutaYReemplazaPokeparadas.csv')"
   ]
  },
  {
   "cell_type": "markdown",
   "metadata": {},
   "source": [
    "## Complejidad teórica de permutaYReemplazaPokeparadas"
   ]
  },
  {
   "cell_type": "code",
   "execution_count": 3,
   "metadata": {
    "collapsed": true
   },
   "outputs": [],
   "source": [
    "cantGimFija['cantNodos'] = cantGimFija['cantGimnasios'] + cantGimFija['cantPokeparadas']\n",
    "cantPokFija['cantNodos'] = cantPokFija['cantGimnasios'] + cantPokFija['cantPokeparadas']"
   ]
  },
  {
   "cell_type": "markdown",
   "metadata": {},
   "source": [
    "### \\#gimnasios fija"
   ]
  },
  {
   "cell_type": "code",
   "execution_count": 4,
   "metadata": {
    "collapsed": false
   },
   "outputs": [],
   "source": [
    "cantGimFija['complejidad'] = cantGimFija['cantPokeparadas'] * cantGimFija['cantPokeparadas'] * cantGimFija['cantNodos'] * np.log2(cantGimFija['cantNodos'])\n",
    "cantGimFija['tiempoSobreComplejidad'] = cantGimFija['tiempo'] / cantGimFija['complejidad']"
   ]
  },
  {
   "cell_type": "code",
   "execution_count": 12,
   "metadata": {
    "collapsed": true
   },
   "outputs": [],
   "source": [
    "fig, ax = plt.subplots()\n",
    "\n",
    "ax = cantGimFija.groupby('cantPokeparadas').mean()['tiempoSobreComplejidad'].plot(color='coral', linewidth = 1)\n",
    "\n",
    "plt.xlabel('m')\n",
    "plt.ylabel(r'$\\frac{Tiempo\\ (ciclos)}{m^2 \\times (n+m) \\times log(n+m)}$')\n",
    "plt.axis([-5, 100, -2, 30])\n",
    "plt.rcParams.update({'font.size': 8})\n",
    "\n",
    "#plt.show()\n",
    "plt.gcf().set_size_inches(6, 4)\n",
    "plt.savefig('expFijo_complejidad_permutaYReemplazaPokeparadas_cantGimFija.pdf', format='pdf', bbox_inches = 'tight', dpi = 100)"
   ]
  },
  {
   "cell_type": "markdown",
   "metadata": {},
   "source": [
    "### \\#pokeparadas fija"
   ]
  },
  {
   "cell_type": "code",
   "execution_count": 6,
   "metadata": {
    "collapsed": true
   },
   "outputs": [],
   "source": [
    "cantPokFija['complejidad'] = cantPokFija['cantPokeparadas'] * cantPokFija['cantPokeparadas'] * cantPokFija['cantNodos'] * np.log2(cantPokFija['cantNodos'])\n",
    "cantPokFija['tiempoSobreComplejidad'] = cantPokFija['tiempo'] / cantPokFija['complejidad']"
   ]
  },
  {
   "cell_type": "code",
   "execution_count": 13,
   "metadata": {
    "collapsed": true
   },
   "outputs": [],
   "source": [
    "fig, ax = plt.subplots()\n",
    "\n",
    "ax = cantPokFija.groupby('cantGimnasios').mean()['tiempoSobreComplejidad'].plot(color='coral', linewidth = 1)\n",
    "\n",
    "plt.xlabel('n')\n",
    "plt.ylabel(r'$\\frac{Tiempo\\ (ciclos)}{m^2 \\times (n+m) \\times log(n+m)}$')\n",
    "plt.axis([-5, 100, -1, 10])\n",
    "plt.rcParams.update({'font.size': 8})\n",
    "\n",
    "#plt.show()\n",
    "plt.gcf().set_size_inches(6, 4)\n",
    "plt.savefig('expFijo_complejidad_permutaYReemplazaPokeparadas_cantPokFija.pdf', format='pdf', bbox_inches = 'tight', dpi = 100)"
   ]
  },
  {
   "cell_type": "code",
   "execution_count": null,
   "metadata": {
    "collapsed": true
   },
   "outputs": [],
   "source": []
  }
 ],
 "metadata": {
  "kernelspec": {
   "display_name": "Python 2",
   "language": "python",
   "name": "python2"
  },
  "language_info": {
   "codemirror_mode": {
    "name": "ipython",
    "version": 2
   },
   "file_extension": ".py",
   "mimetype": "text/x-python",
   "name": "python",
   "nbconvert_exporter": "python",
   "pygments_lexer": "ipython2",
   "version": "2.7.12"
  }
 },
 "nbformat": 4,
 "nbformat_minor": 0
}
