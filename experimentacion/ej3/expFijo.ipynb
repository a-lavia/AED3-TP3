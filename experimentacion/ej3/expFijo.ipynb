{
 "cells": [
  {
   "cell_type": "markdown",
   "metadata": {},
   "source": [
    "# Instancias con \\#gimnasios fija e instancias con \\#pokeparadas fija"
   ]
  },
  {
   "cell_type": "code",
   "execution_count": 64,
   "metadata": {
    "collapsed": true
   },
   "outputs": [],
   "source": [
    "# -*- coding: utf-8 -*-\n",
    "\n",
    "import pandas as pd\n",
    "import matplotlib.pyplot as plt\n",
    "import numpy as np\n",
    "\n",
    "plt.style.use('ggplot')"
   ]
  },
  {
   "cell_type": "markdown",
   "metadata": {},
   "source": [
    "## Lectura de archivos"
   ]
  },
  {
   "cell_type": "code",
   "execution_count": 65,
   "metadata": {
    "collapsed": false
   },
   "outputs": [],
   "source": [
    "cantGimFija = pd.read_csv('exp-ej3-cantGimFija-permutaYReemplazaPokeparadas.csv')\n",
    "cantPokFija = pd.read_csv('exp-ej3-cantPokFija-permutaYReemplazaPokeparadas.csv')"
   ]
  },
  {
   "cell_type": "markdown",
   "metadata": {},
   "source": [
    "## Complejidad teórica de permutaYReemplazaPokeparadas"
   ]
  },
  {
   "cell_type": "code",
   "execution_count": 66,
   "metadata": {
    "collapsed": true
   },
   "outputs": [],
   "source": [
    "cantGimFija['cantNodos'] = cantGimFija['cantGimnasios'] + cantGimFija['cantPokeparadas']\n",
    "cantPokFija['cantNodos'] = cantPokFija['cantGimnasios'] + cantPokFija['cantPokeparadas']"
   ]
  },
  {
   "cell_type": "markdown",
   "metadata": {},
   "source": [
    "### \\#gimnasios fija"
   ]
  },
  {
   "cell_type": "code",
   "execution_count": 67,
   "metadata": {
    "collapsed": false
   },
   "outputs": [],
   "source": [
    "cantGimFija['complejidad'] = cantGimFija['cantPokeparadas'] * cantGimFija['cantPokeparadas'] * cantGimFija['cantNodos'] * np.log2(cantGimFija['cantNodos'])\n",
    "cantGimFija['tiempoSobreComplejidad'] = cantGimFija['tiempo'] / cantGimFija['complejidad']"
   ]
  },
  {
   "cell_type": "code",
   "execution_count": 83,
   "metadata": {
    "collapsed": true
   },
   "outputs": [],
   "source": [
    "plt.clf()\n",
    "axis1 = plt.subplot(2,1,1)\n",
    "axis2 = plt.subplot(2,1,2)\n",
    "\n",
    "cantGimFija.groupby('cantPokeparadas').mean()['tiempoSobreComplejidad'].plot(kind='box', ax=axis1)\n",
    "cantGimFija.groupby('cantPokeparadas').mean()['tiempoSobreComplejidad'].plot(color='coral', linewidth = 1, kind='density', ax=axis2)\n",
    "\n",
    "axis1.set_xlabel('m')\n",
    "axis1.set_ylabel(r'$\\frac{Tiempo\\ (ciclos)}{m^2 \\times (n+m) \\times log(n+m)}$')\n",
    "\n",
    "axis2.set_xlabel(r'$\\frac{Tiempo\\ (ciclos)}{m^2 \\times (n+m) \\times log(n+m)}$')\n",
    "axis2.set_ylabel('Densidad')\n",
    "\n",
    "axis1.axis([0.75, 1.25, 0, 4.5])\n",
    "axis2.axis([-15,40,-0.025, 0.15])\n",
    "\n",
    "plt.rcParams.update({'font.size': 8})\n",
    "\n",
    "#plt.show()\n",
    "plt.gcf().set_size_inches(6, 4)\n",
    "plt.savefig('expFijo_complejidad_permutaYReemplazaPokeparadas_cantGimFija.pdf', format='pdf', bbox_inches = 'tight', dpi = 100)"
   ]
  },
  {
   "cell_type": "markdown",
   "metadata": {},
   "source": [
    "### \\#pokeparadas fija"
   ]
  },
  {
   "cell_type": "code",
   "execution_count": 69,
   "metadata": {
    "collapsed": true
   },
   "outputs": [],
   "source": [
    "cantPokFija['complejidad'] = cantPokFija['cantPokeparadas'] * cantPokFija['cantPokeparadas'] * cantPokFija['cantNodos'] * np.log2(cantPokFija['cantNodos'])\n",
    "cantPokFija['tiempoSobreComplejidad'] = cantPokFija['tiempo'] / cantPokFija['complejidad']"
   ]
  },
  {
   "cell_type": "code",
   "execution_count": 81,
   "metadata": {
    "collapsed": false
   },
   "outputs": [],
   "source": [
    "plt.clf()\n",
    "axis1 = plt.subplot(2,1,1)\n",
    "axis2 = plt.subplot(2,1,2)\n",
    "\n",
    "cantPokFija.groupby('cantGimnasios').mean()['tiempoSobreComplejidad'].plot(kind='box', ax=axis1)\n",
    "cantPokFija.groupby('cantGimnasios').mean()['tiempoSobreComplejidad'].plot(color='coral', linewidth = 1, kind='density', ax=axis2)\n",
    "\n",
    "axis1.set_xlabel('n')\n",
    "axis1.set_ylabel(r'$\\frac{Tiempo\\ (ciclos)}{m^2 \\times (n+m) \\times log(n+m)}$')\n",
    "\n",
    "axis2.set_xlabel(r'$\\frac{Tiempo\\ (ciclos)}{m^2 \\times (n+m) \\times log(n+m)}$')\n",
    "axis2.set_ylabel('Densidad')\n",
    "\n",
    "axis1.axis([0.75, 1.25, -1, 10])\n",
    "axis2.axis([-5,15,-0.05, 0.4])\n",
    "\n",
    "plt.rcParams.update({'font.size': 8})\n",
    "\n",
    "#plt.show()\n",
    "plt.gcf().set_size_inches(6, 4)\n",
    "plt.savefig('expFijo_complejidad_permutaYReemplazaPokeparadas_cantPokFija.pdf', format='pdf', bbox_inches = 'tight', dpi = 100)"
   ]
  },
  {
   "cell_type": "code",
   "execution_count": null,
   "metadata": {
    "collapsed": true
   },
   "outputs": [],
   "source": []
  }
 ],
 "metadata": {
  "kernelspec": {
   "display_name": "Python 2",
   "language": "python",
   "name": "python2"
  },
  "language_info": {
   "codemirror_mode": {
    "name": "ipython",
    "version": 2
   },
   "file_extension": ".py",
   "mimetype": "text/x-python",
   "name": "python",
   "nbconvert_exporter": "python",
   "pygments_lexer": "ipython2",
   "version": "2.7.12"
  }
 },
 "nbformat": 4,
 "nbformat_minor": 0
}
