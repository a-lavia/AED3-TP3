{
 "cells": [
  {
   "cell_type": "markdown",
   "metadata": {},
   "source": [
    "# Instancias donde la búsqueda local corrige mejor y sus soluciones óptimas"
   ]
  },
  {
   "cell_type": "code",
   "execution_count": 1,
   "metadata": {
    "collapsed": true
   },
   "outputs": [],
   "source": [
    "# -*- coding: utf-8 -*-\n",
    "\n",
    "import pandas as pd\n",
    "import matplotlib.pyplot as plt\n",
    "import numpy as np\n",
    "\n",
    "plt.style.use('ggplot')"
   ]
  },
  {
   "cell_type": "markdown",
   "metadata": {},
   "source": [
    "## Lectura de archivos"
   ]
  },
  {
   "cell_type": "code",
   "execution_count": 2,
   "metadata": {
    "collapsed": true
   },
   "outputs": [],
   "source": [
    "op = pd.read_csv('exp-ej3-mejorOp-Op.csv')\n",
    "permutaCamino = pd.read_csv('exp-ej3-mejorOp-permutaCamino.csv')\n",
    "permutaYReemplazaPokeparadas = pd.read_csv('exp-ej3-mejorOp-permutaYReemplazaPokeparadas.csv')"
   ]
  },
  {
   "cell_type": "markdown",
   "metadata": {},
   "source": [
    "## Error relativo\n",
    "\n",
    "error relativo = error absoluto / valor exacto = (valor medido - valor exacto)/valor exacto"
   ]
  },
  {
   "cell_type": "code",
   "execution_count": 9,
   "metadata": {
    "collapsed": true
   },
   "outputs": [],
   "source": [
    "opM = op.groupby('distancia', as_index=False).mean()\n",
    "permutaCaminoM = permutaCamino.groupby('distanciaNueva', as_index=False).mean()\n",
    "permutaYReemplazaPokeparadasM = permutaYReemplazaPokeparadas.groupby('distanciaNueva', as_index=False).mean()"
   ]
  },
  {
   "cell_type": "code",
   "execution_count": 10,
   "metadata": {
    "collapsed": true
   },
   "outputs": [],
   "source": [
    "permutaCaminoM['errorRelativo'] = (permutaCaminoM['distanciaNueva'] - opM['distancia']) / opM['distancia'] \n",
    "permutaYReemplazaPokeparadasM['errorRelativo'] = (permutaYReemplazaPokeparadasM['distanciaNueva'] - opM['distancia']) / opM['distancia']"
   ]
  },
  {
   "cell_type": "code",
   "execution_count": 11,
   "metadata": {
    "collapsed": false
   },
   "outputs": [
    {
     "data": {
      "text/plain": [
       "count    17.000000\n",
       "mean      0.116154\n",
       "std       0.148876\n",
       "min       0.000000\n",
       "25%       0.000000\n",
       "50%       0.028324\n",
       "75%       0.233703\n",
       "max       0.492888\n",
       "Name: errorRelativo, dtype: float64"
      ]
     },
     "execution_count": 11,
     "metadata": {},
     "output_type": "execute_result"
    }
   ],
   "source": [
    "permutaCaminoM['errorRelativo'].describe()"
   ]
  },
  {
   "cell_type": "code",
   "execution_count": 12,
   "metadata": {
    "collapsed": false
   },
   "outputs": [
    {
     "data": {
      "text/plain": [
       "count    17.000000\n",
       "mean      0.807135\n",
       "std       0.937515\n",
       "min       0.000000\n",
       "25%       0.000000\n",
       "50%       0.368586\n",
       "75%       1.355756\n",
       "max       2.524617\n",
       "Name: errorRelativo, dtype: float64"
      ]
     },
     "execution_count": 12,
     "metadata": {},
     "output_type": "execute_result"
    }
   ],
   "source": [
    "permutaYReemplazaPokeparadasM['errorRelativo'].describe()"
   ]
  },
  {
   "cell_type": "code",
   "execution_count": null,
   "metadata": {
    "collapsed": true
   },
   "outputs": [],
   "source": []
  },
  {
   "cell_type": "code",
   "execution_count": null,
   "metadata": {
    "collapsed": true
   },
   "outputs": [],
   "source": []
  }
 ],
 "metadata": {
  "kernelspec": {
   "display_name": "Python 2",
   "language": "python",
   "name": "python2"
  },
  "language_info": {
   "codemirror_mode": {
    "name": "ipython",
    "version": 2
   },
   "file_extension": ".py",
   "mimetype": "text/x-python",
   "name": "python",
   "nbconvert_exporter": "python",
   "pygments_lexer": "ipython2",
   "version": "2.7.12"
  }
 },
 "nbformat": 4,
 "nbformat_minor": 0
}
