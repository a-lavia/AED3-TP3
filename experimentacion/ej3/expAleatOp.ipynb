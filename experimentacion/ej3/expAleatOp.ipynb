{
 "cells": [
  {
   "cell_type": "markdown",
   "metadata": {},
   "source": [
    "# Instancias aleatorias y sus soluciones óptimas"
   ]
  },
  {
   "cell_type": "code",
   "execution_count": 1,
   "metadata": {
    "collapsed": false
   },
   "outputs": [],
   "source": [
    "# -*- coding: utf-8 -*-\n",
    "\n",
    "import pandas as pd\n",
    "import matplotlib.pyplot as plt\n",
    "import numpy as np\n",
    "\n",
    "plt.style.use('ggplot')"
   ]
  },
  {
   "cell_type": "markdown",
   "metadata": {},
   "source": [
    "## Lectura de archivos"
   ]
  },
  {
   "cell_type": "code",
   "execution_count": 2,
   "metadata": {
    "collapsed": false
   },
   "outputs": [],
   "source": [
    "op = pd.read_csv('exp-ej3-aleatOp-Op.csv')\n",
    "permutaCamino = pd.read_csv('exp-ej3-aleatOp-permutaCamino.csv')\n",
    "permutaYReemplazaPokeparadas = pd.read_csv('exp-ej3-aleatOp-permutaYReemplazaPokeparadas.csv')"
   ]
  },
  {
   "cell_type": "markdown",
   "metadata": {
    "collapsed": true
   },
   "source": [
    "## Error relativo\n",
    "\n",
    "error relativo = error absoluto / valor exacto = (valor medido - valor exacto)/valor exacto"
   ]
  },
  {
   "cell_type": "code",
   "execution_count": 3,
   "metadata": {
    "collapsed": false
   },
   "outputs": [],
   "source": [
    "opM = op.groupby('distancia', as_index=False).mean()\n",
    "permutaCaminoM = permutaCamino.groupby('distanciaNueva', as_index=False).mean()\n",
    "permutaYReemplazaPokeparadasM = permutaYReemplazaPokeparadas.groupby('distanciaNueva', as_index=False).mean()"
   ]
  },
  {
   "cell_type": "code",
   "execution_count": 4,
   "metadata": {
    "collapsed": false
   },
   "outputs": [],
   "source": [
    "permutaCaminoM['errorRelativo'] = (permutaCaminoM['distanciaNueva'] - opM['distancia']) / opM['distancia'] \n",
    "permutaYReemplazaPokeparadasM['errorRelativo'] = (permutaYReemplazaPokeparadasM['distanciaNueva'] - opM['distancia']) / opM['distancia']"
   ]
  },
  {
   "cell_type": "code",
   "execution_count": 5,
   "metadata": {
    "collapsed": false
   },
   "outputs": [
    {
     "data": {
      "text/plain": [
       "count    17.000000\n",
       "mean      0.100376\n",
       "std       0.096465\n",
       "min       0.000000\n",
       "25%       0.000000\n",
       "50%       0.077948\n",
       "75%       0.170708\n",
       "max       0.280713\n",
       "Name: errorRelativo, dtype: float64"
      ]
     },
     "execution_count": 5,
     "metadata": {},
     "output_type": "execute_result"
    }
   ],
   "source": [
    "permutaCaminoM['errorRelativo'].describe()"
   ]
  },
  {
   "cell_type": "code",
   "execution_count": 6,
   "metadata": {
    "collapsed": false
   },
   "outputs": [
    {
     "data": {
      "text/plain": [
       "count    17.000000\n",
       "mean      0.127016\n",
       "std       0.135994\n",
       "min       0.000000\n",
       "25%       0.000000\n",
       "50%       0.090406\n",
       "75%       0.223799\n",
       "max       0.484252\n",
       "Name: errorRelativo, dtype: float64"
      ]
     },
     "execution_count": 6,
     "metadata": {},
     "output_type": "execute_result"
    }
   ],
   "source": [
    "permutaYReemplazaPokeparadasM['errorRelativo'].describe()"
   ]
  },
  {
   "cell_type": "code",
   "execution_count": null,
   "metadata": {
    "collapsed": true
   },
   "outputs": [],
   "source": []
  }
 ],
 "metadata": {
  "kernelspec": {
   "display_name": "Python 2",
   "language": "python",
   "name": "python2"
  },
  "language_info": {
   "codemirror_mode": {
    "name": "ipython",
    "version": 2
   },
   "file_extension": ".py",
   "mimetype": "text/x-python",
   "name": "python",
   "nbconvert_exporter": "python",
   "pygments_lexer": "ipython2",
   "version": "2.7.12"
  }
 },
 "nbformat": 4,
 "nbformat_minor": 0
}
