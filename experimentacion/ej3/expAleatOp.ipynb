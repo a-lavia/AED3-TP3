{
 "cells": [
  {
   "cell_type": "markdown",
   "metadata": {},
   "source": [
    "# Instancias aleatorias y sus soluciones óptimas"
   ]
  },
  {
   "cell_type": "code",
   "execution_count": 58,
   "metadata": {
    "collapsed": true
   },
   "outputs": [],
   "source": [
    "# -*- coding: utf-8 -*-\n",
    "\n",
    "import pandas as pd\n",
    "import matplotlib.pyplot as plt\n",
    "import numpy as np\n",
    "\n",
    "plt.style.use('ggplot')"
   ]
  },
  {
   "cell_type": "markdown",
   "metadata": {},
   "source": [
    "## Lectura de archivos"
   ]
  },
  {
   "cell_type": "code",
   "execution_count": 59,
   "metadata": {
    "collapsed": true
   },
   "outputs": [],
   "source": [
    "aleatOp = pd.read_csv('exp-ej3-aleatOp-Op.csv')\n",
    "aleatOpPermutaCamino = pd.read_csv('exp-ej3-aleatOp-permutaCamino.csv')\n",
    "aleatOpPermutaYReemplazaPokeparadas = pd.read_csv('exp-ej3-aleatOp-permutaYReemplazaPokeparadas.csv')"
   ]
  },
  {
   "cell_type": "markdown",
   "metadata": {
    "collapsed": true
   },
   "source": [
    "## Error relativo\n",
    "\n",
    "error relativo = error absoluto / valor exacto = (valor medido - valor exacto)/valor exacto"
   ]
  },
  {
   "cell_type": "code",
   "execution_count": 60,
   "metadata": {
    "collapsed": false
   },
   "outputs": [],
   "source": [
    "aleatOpM = aleatOp.groupby('distancia', as_index=False).mean()\n",
    "aleatOpPermutaCaminoM = aleatOpPermutaCamino.groupby('distanciaNueva', as_index=False).mean()\n",
    "aleatOpPermutaYReemplazaPokeparadasM = aleatOpPermutaYReemplazaPokeparadas.groupby('distanciaNueva', as_index=False).mean()"
   ]
  },
  {
   "cell_type": "code",
   "execution_count": 61,
   "metadata": {
    "collapsed": false
   },
   "outputs": [],
   "source": [
    "aleatOpPermutaCaminoM['errorRelativo'] = (aleatOpPermutaCaminoM['distanciaNueva'] - aleatOpM['distancia']) / aleatOpM['distancia'] \n",
    "aleatOpPermutaYReemplazaPokeparadasM['errorRelativo'] = (aleatOpPermutaYReemplazaPokeparadasM['distanciaNueva'] - aleatOpM['distancia']) / aleatOpM['distancia']"
   ]
  },
  {
   "cell_type": "code",
   "execution_count": 62,
   "metadata": {
    "collapsed": false
   },
   "outputs": [
    {
     "data": {
      "text/plain": [
       "count    17.000000\n",
       "mean      0.100376\n",
       "std       0.096465\n",
       "min       0.000000\n",
       "25%       0.000000\n",
       "50%       0.077948\n",
       "75%       0.170708\n",
       "max       0.280713\n",
       "Name: errorRelativo, dtype: float64"
      ]
     },
     "execution_count": 62,
     "metadata": {},
     "output_type": "execute_result"
    }
   ],
   "source": [
    "aleatOpPermutaCaminoM['errorRelativo'].describe()"
   ]
  },
  {
   "cell_type": "code",
   "execution_count": 63,
   "metadata": {
    "collapsed": false
   },
   "outputs": [
    {
     "data": {
      "text/plain": [
       "count    17.000000\n",
       "mean      0.127016\n",
       "std       0.135994\n",
       "min       0.000000\n",
       "25%       0.000000\n",
       "50%       0.090406\n",
       "75%       0.223799\n",
       "max       0.484252\n",
       "Name: errorRelativo, dtype: float64"
      ]
     },
     "execution_count": 63,
     "metadata": {},
     "output_type": "execute_result"
    }
   ],
   "source": [
    "aleatOpPermutaYReemplazaPokeparadasM['errorRelativo'].describe()"
   ]
  }
 ],
 "metadata": {
  "kernelspec": {
   "display_name": "Python 2",
   "language": "python",
   "name": "python2"
  },
  "language_info": {
   "codemirror_mode": {
    "name": "ipython",
    "version": 2
   },
   "file_extension": ".py",
   "mimetype": "text/x-python",
   "name": "python",
   "nbconvert_exporter": "python",
   "pygments_lexer": "ipython2",
   "version": "2.7.12"
  }
 },
 "nbformat": 4,
 "nbformat_minor": 0
}
