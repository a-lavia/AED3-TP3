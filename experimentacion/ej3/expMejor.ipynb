{
 "cells": [
  {
   "cell_type": "markdown",
   "metadata": {},
   "source": [
    "# Instancias donde la búsqueda local corrige mejor"
   ]
  },
  {
   "cell_type": "code",
   "execution_count": 43,
   "metadata": {
    "collapsed": true
   },
   "outputs": [],
   "source": [
    "# -*- coding: utf-8 -*-\n",
    "\n",
    "import pandas as pd\n",
    "import matplotlib.pyplot as plt\n",
    "import numpy as np\n",
    "\n",
    "plt.style.use('ggplot')"
   ]
  },
  {
   "cell_type": "markdown",
   "metadata": {},
   "source": [
    "## Lectura de archivos"
   ]
  },
  {
   "cell_type": "code",
   "execution_count": 44,
   "metadata": {
    "collapsed": true
   },
   "outputs": [],
   "source": [
    "permutaCamino = pd.read_csv('exp-ej3-mejor-permutaCamino.csv')\n",
    "permutaYReemplazaPokeparadas = pd.read_csv('exp-ej3-mejor-permutaYReemplazaPokeparadas.csv')"
   ]
  },
  {
   "cell_type": "markdown",
   "metadata": {},
   "source": [
    "## Descripción de los datos"
   ]
  },
  {
   "cell_type": "code",
   "execution_count": 45,
   "metadata": {
    "collapsed": true
   },
   "outputs": [],
   "source": [
    "permutaCamino['cantNodos'] = permutaCamino['cantGimnasios'] + permutaCamino['cantPokeparadas']\n",
    "permutaYReemplazaPokeparadas['cantNodos'] = permutaYReemplazaPokeparadas['cantGimnasios'] + permutaYReemplazaPokeparadas['cantPokeparadas']"
   ]
  },
  {
   "cell_type": "code",
   "execution_count": 46,
   "metadata": {
    "collapsed": false
   },
   "outputs": [
    {
     "data": {
      "text/html": [
       "<div>\n",
       "<table border=\"1\" class=\"dataframe\">\n",
       "  <thead>\n",
       "    <tr style=\"text-align: right;\">\n",
       "      <th></th>\n",
       "      <th>cantGimnasios</th>\n",
       "      <th>cantPokeparadas</th>\n",
       "      <th>tamMochila</th>\n",
       "      <th>distanciaOriginal</th>\n",
       "      <th>distanciaNueva</th>\n",
       "      <th>cantPermutacionesParaMejorar</th>\n",
       "      <th>cantPermutacionesParaMantener</th>\n",
       "      <th>cantReemplazosParaMejorar</th>\n",
       "      <th>cantReemplazosParaMantener</th>\n",
       "      <th>tamCamino</th>\n",
       "      <th>tiempo</th>\n",
       "      <th>cantNodos</th>\n",
       "    </tr>\n",
       "  </thead>\n",
       "  <tbody>\n",
       "    <tr>\n",
       "      <th>count</th>\n",
       "      <td>3000.000000</td>\n",
       "      <td>3000.000000</td>\n",
       "      <td>3000.000000</td>\n",
       "      <td>3000.000000</td>\n",
       "      <td>3000.000000</td>\n",
       "      <td>3000.000000</td>\n",
       "      <td>3000.000000</td>\n",
       "      <td>3000.0</td>\n",
       "      <td>3000.0</td>\n",
       "      <td>3000.000000</td>\n",
       "      <td>3.000000e+03</td>\n",
       "      <td>3000.000000</td>\n",
       "    </tr>\n",
       "    <tr>\n",
       "      <th>mean</th>\n",
       "      <td>49.800000</td>\n",
       "      <td>385.033333</td>\n",
       "      <td>250.933333</td>\n",
       "      <td>46660.266667</td>\n",
       "      <td>9610.633333</td>\n",
       "      <td>986.433333</td>\n",
       "      <td>0.266667</td>\n",
       "      <td>0.0</td>\n",
       "      <td>0.0</td>\n",
       "      <td>133.766667</td>\n",
       "      <td>7.441613e+08</td>\n",
       "      <td>434.833333</td>\n",
       "    </tr>\n",
       "    <tr>\n",
       "      <th>std</th>\n",
       "      <td>30.633415</td>\n",
       "      <td>250.684223</td>\n",
       "      <td>155.433315</td>\n",
       "      <td>28918.048499</td>\n",
       "      <td>4828.589717</td>\n",
       "      <td>762.647050</td>\n",
       "      <td>0.853892</td>\n",
       "      <td>0.0</td>\n",
       "      <td>0.0</td>\n",
       "      <td>82.259555</td>\n",
       "      <td>8.279618e+08</td>\n",
       "      <td>278.940032</td>\n",
       "    </tr>\n",
       "    <tr>\n",
       "      <th>min</th>\n",
       "      <td>1.000000</td>\n",
       "      <td>2.000000</td>\n",
       "      <td>2.000000</td>\n",
       "      <td>703.000000</td>\n",
       "      <td>703.000000</td>\n",
       "      <td>0.000000</td>\n",
       "      <td>0.000000</td>\n",
       "      <td>0.0</td>\n",
       "      <td>0.0</td>\n",
       "      <td>2.000000</td>\n",
       "      <td>1.131000e+03</td>\n",
       "      <td>3.000000</td>\n",
       "    </tr>\n",
       "    <tr>\n",
       "      <th>25%</th>\n",
       "      <td>18.000000</td>\n",
       "      <td>147.000000</td>\n",
       "      <td>92.000000</td>\n",
       "      <td>17380.000000</td>\n",
       "      <td>5260.000000</td>\n",
       "      <td>159.000000</td>\n",
       "      <td>0.000000</td>\n",
       "      <td>0.0</td>\n",
       "      <td>0.0</td>\n",
       "      <td>49.000000</td>\n",
       "      <td>7.925848e+06</td>\n",
       "      <td>165.000000</td>\n",
       "    </tr>\n",
       "    <tr>\n",
       "      <th>50%</th>\n",
       "      <td>52.000000</td>\n",
       "      <td>441.000000</td>\n",
       "      <td>268.000000</td>\n",
       "      <td>51102.500000</td>\n",
       "      <td>9546.000000</td>\n",
       "      <td>938.000000</td>\n",
       "      <td>0.000000</td>\n",
       "      <td>0.0</td>\n",
       "      <td>0.0</td>\n",
       "      <td>140.500000</td>\n",
       "      <td>3.421103e+08</td>\n",
       "      <td>495.500000</td>\n",
       "    </tr>\n",
       "    <tr>\n",
       "      <th>75%</th>\n",
       "      <td>77.000000</td>\n",
       "      <td>591.000000</td>\n",
       "      <td>386.000000</td>\n",
       "      <td>72466.000000</td>\n",
       "      <td>13803.000000</td>\n",
       "      <td>1708.000000</td>\n",
       "      <td>0.000000</td>\n",
       "      <td>0.0</td>\n",
       "      <td>0.0</td>\n",
       "      <td>208.000000</td>\n",
       "      <td>1.451624e+09</td>\n",
       "      <td>668.000000</td>\n",
       "    </tr>\n",
       "    <tr>\n",
       "      <th>max</th>\n",
       "      <td>95.000000</td>\n",
       "      <td>839.000000</td>\n",
       "      <td>464.000000</td>\n",
       "      <td>90150.000000</td>\n",
       "      <td>17104.000000</td>\n",
       "      <td>2348.000000</td>\n",
       "      <td>4.000000</td>\n",
       "      <td>0.0</td>\n",
       "      <td>0.0</td>\n",
       "      <td>247.000000</td>\n",
       "      <td>3.112234e+09</td>\n",
       "      <td>934.000000</td>\n",
       "    </tr>\n",
       "  </tbody>\n",
       "</table>\n",
       "</div>"
      ],
      "text/plain": [
       "       cantGimnasios  cantPokeparadas   tamMochila  distanciaOriginal  \\\n",
       "count    3000.000000      3000.000000  3000.000000        3000.000000   \n",
       "mean       49.800000       385.033333   250.933333       46660.266667   \n",
       "std        30.633415       250.684223   155.433315       28918.048499   \n",
       "min         1.000000         2.000000     2.000000         703.000000   \n",
       "25%        18.000000       147.000000    92.000000       17380.000000   \n",
       "50%        52.000000       441.000000   268.000000       51102.500000   \n",
       "75%        77.000000       591.000000   386.000000       72466.000000   \n",
       "max        95.000000       839.000000   464.000000       90150.000000   \n",
       "\n",
       "       distanciaNueva  cantPermutacionesParaMejorar  \\\n",
       "count     3000.000000                   3000.000000   \n",
       "mean      9610.633333                    986.433333   \n",
       "std       4828.589717                    762.647050   \n",
       "min        703.000000                      0.000000   \n",
       "25%       5260.000000                    159.000000   \n",
       "50%       9546.000000                    938.000000   \n",
       "75%      13803.000000                   1708.000000   \n",
       "max      17104.000000                   2348.000000   \n",
       "\n",
       "       cantPermutacionesParaMantener  cantReemplazosParaMejorar  \\\n",
       "count                    3000.000000                     3000.0   \n",
       "mean                        0.266667                        0.0   \n",
       "std                         0.853892                        0.0   \n",
       "min                         0.000000                        0.0   \n",
       "25%                         0.000000                        0.0   \n",
       "50%                         0.000000                        0.0   \n",
       "75%                         0.000000                        0.0   \n",
       "max                         4.000000                        0.0   \n",
       "\n",
       "       cantReemplazosParaMantener    tamCamino        tiempo    cantNodos  \n",
       "count                      3000.0  3000.000000  3.000000e+03  3000.000000  \n",
       "mean                          0.0   133.766667  7.441613e+08   434.833333  \n",
       "std                           0.0    82.259555  8.279618e+08   278.940032  \n",
       "min                           0.0     2.000000  1.131000e+03     3.000000  \n",
       "25%                           0.0    49.000000  7.925848e+06   165.000000  \n",
       "50%                           0.0   140.500000  3.421103e+08   495.500000  \n",
       "75%                           0.0   208.000000  1.451624e+09   668.000000  \n",
       "max                           0.0   247.000000  3.112234e+09   934.000000  "
      ]
     },
     "execution_count": 46,
     "metadata": {},
     "output_type": "execute_result"
    }
   ],
   "source": [
    "permutaCamino.describe()"
   ]
  },
  {
   "cell_type": "code",
   "execution_count": 47,
   "metadata": {
    "collapsed": false
   },
   "outputs": [
    {
     "data": {
      "text/html": [
       "<div>\n",
       "<table border=\"1\" class=\"dataframe\">\n",
       "  <thead>\n",
       "    <tr style=\"text-align: right;\">\n",
       "      <th></th>\n",
       "      <th>cantGimnasios</th>\n",
       "      <th>cantPokeparadas</th>\n",
       "      <th>tamMochila</th>\n",
       "      <th>distanciaOriginal</th>\n",
       "      <th>distanciaNueva</th>\n",
       "      <th>cantPermutacionesParaMejorar</th>\n",
       "      <th>cantPermutacionesParaMantener</th>\n",
       "      <th>cantReemplazosParaMejorar</th>\n",
       "      <th>cantReemplazosParaMantener</th>\n",
       "      <th>tamCamino</th>\n",
       "      <th>tiempo</th>\n",
       "      <th>cantNodos</th>\n",
       "    </tr>\n",
       "  </thead>\n",
       "  <tbody>\n",
       "    <tr>\n",
       "      <th>count</th>\n",
       "      <td>3000.000000</td>\n",
       "      <td>3000.000000</td>\n",
       "      <td>3000.000000</td>\n",
       "      <td>3000.000000</td>\n",
       "      <td>3000.000000</td>\n",
       "      <td>3000.000000</td>\n",
       "      <td>3000.000000</td>\n",
       "      <td>3000.000000</td>\n",
       "      <td>3000.0</td>\n",
       "      <td>3000.000000</td>\n",
       "      <td>3.000000e+03</td>\n",
       "      <td>3000.000000</td>\n",
       "    </tr>\n",
       "    <tr>\n",
       "      <th>mean</th>\n",
       "      <td>49.800000</td>\n",
       "      <td>385.033333</td>\n",
       "      <td>250.933333</td>\n",
       "      <td>46660.266667</td>\n",
       "      <td>42815.000000</td>\n",
       "      <td>254.733333</td>\n",
       "      <td>0.266667</td>\n",
       "      <td>24.866667</td>\n",
       "      <td>0.0</td>\n",
       "      <td>133.766667</td>\n",
       "      <td>4.678609e+08</td>\n",
       "      <td>434.833333</td>\n",
       "    </tr>\n",
       "    <tr>\n",
       "      <th>std</th>\n",
       "      <td>30.633415</td>\n",
       "      <td>250.684223</td>\n",
       "      <td>155.433315</td>\n",
       "      <td>28918.048499</td>\n",
       "      <td>26497.639026</td>\n",
       "      <td>197.378439</td>\n",
       "      <td>0.853892</td>\n",
       "      <td>16.777248</td>\n",
       "      <td>0.0</td>\n",
       "      <td>82.259555</td>\n",
       "      <td>5.010275e+08</td>\n",
       "      <td>278.940032</td>\n",
       "    </tr>\n",
       "    <tr>\n",
       "      <th>min</th>\n",
       "      <td>1.000000</td>\n",
       "      <td>2.000000</td>\n",
       "      <td>2.000000</td>\n",
       "      <td>703.000000</td>\n",
       "      <td>611.000000</td>\n",
       "      <td>0.000000</td>\n",
       "      <td>0.000000</td>\n",
       "      <td>0.000000</td>\n",
       "      <td>0.0</td>\n",
       "      <td>2.000000</td>\n",
       "      <td>1.164000e+03</td>\n",
       "      <td>3.000000</td>\n",
       "    </tr>\n",
       "    <tr>\n",
       "      <th>25%</th>\n",
       "      <td>18.000000</td>\n",
       "      <td>147.000000</td>\n",
       "      <td>92.000000</td>\n",
       "      <td>17380.000000</td>\n",
       "      <td>16342.000000</td>\n",
       "      <td>47.000000</td>\n",
       "      <td>0.000000</td>\n",
       "      <td>12.000000</td>\n",
       "      <td>0.0</td>\n",
       "      <td>49.000000</td>\n",
       "      <td>1.188473e+07</td>\n",
       "      <td>165.000000</td>\n",
       "    </tr>\n",
       "    <tr>\n",
       "      <th>50%</th>\n",
       "      <td>52.000000</td>\n",
       "      <td>441.000000</td>\n",
       "      <td>268.000000</td>\n",
       "      <td>51102.500000</td>\n",
       "      <td>47561.500000</td>\n",
       "      <td>243.000000</td>\n",
       "      <td>0.000000</td>\n",
       "      <td>21.500000</td>\n",
       "      <td>0.0</td>\n",
       "      <td>140.500000</td>\n",
       "      <td>3.178016e+08</td>\n",
       "      <td>495.500000</td>\n",
       "    </tr>\n",
       "    <tr>\n",
       "      <th>75%</th>\n",
       "      <td>77.000000</td>\n",
       "      <td>591.000000</td>\n",
       "      <td>386.000000</td>\n",
       "      <td>72466.000000</td>\n",
       "      <td>66192.000000</td>\n",
       "      <td>420.000000</td>\n",
       "      <td>0.000000</td>\n",
       "      <td>38.000000</td>\n",
       "      <td>0.0</td>\n",
       "      <td>208.000000</td>\n",
       "      <td>7.876720e+08</td>\n",
       "      <td>668.000000</td>\n",
       "    </tr>\n",
       "    <tr>\n",
       "      <th>max</th>\n",
       "      <td>95.000000</td>\n",
       "      <td>839.000000</td>\n",
       "      <td>464.000000</td>\n",
       "      <td>90150.000000</td>\n",
       "      <td>83425.000000</td>\n",
       "      <td>683.000000</td>\n",
       "      <td>4.000000</td>\n",
       "      <td>61.000000</td>\n",
       "      <td>0.0</td>\n",
       "      <td>247.000000</td>\n",
       "      <td>2.712768e+09</td>\n",
       "      <td>934.000000</td>\n",
       "    </tr>\n",
       "  </tbody>\n",
       "</table>\n",
       "</div>"
      ],
      "text/plain": [
       "       cantGimnasios  cantPokeparadas   tamMochila  distanciaOriginal  \\\n",
       "count    3000.000000      3000.000000  3000.000000        3000.000000   \n",
       "mean       49.800000       385.033333   250.933333       46660.266667   \n",
       "std        30.633415       250.684223   155.433315       28918.048499   \n",
       "min         1.000000         2.000000     2.000000         703.000000   \n",
       "25%        18.000000       147.000000    92.000000       17380.000000   \n",
       "50%        52.000000       441.000000   268.000000       51102.500000   \n",
       "75%        77.000000       591.000000   386.000000       72466.000000   \n",
       "max        95.000000       839.000000   464.000000       90150.000000   \n",
       "\n",
       "       distanciaNueva  cantPermutacionesParaMejorar  \\\n",
       "count     3000.000000                   3000.000000   \n",
       "mean     42815.000000                    254.733333   \n",
       "std      26497.639026                    197.378439   \n",
       "min        611.000000                      0.000000   \n",
       "25%      16342.000000                     47.000000   \n",
       "50%      47561.500000                    243.000000   \n",
       "75%      66192.000000                    420.000000   \n",
       "max      83425.000000                    683.000000   \n",
       "\n",
       "       cantPermutacionesParaMantener  cantReemplazosParaMejorar  \\\n",
       "count                    3000.000000                3000.000000   \n",
       "mean                        0.266667                  24.866667   \n",
       "std                         0.853892                  16.777248   \n",
       "min                         0.000000                   0.000000   \n",
       "25%                         0.000000                  12.000000   \n",
       "50%                         0.000000                  21.500000   \n",
       "75%                         0.000000                  38.000000   \n",
       "max                         4.000000                  61.000000   \n",
       "\n",
       "       cantReemplazosParaMantener    tamCamino        tiempo    cantNodos  \n",
       "count                      3000.0  3000.000000  3.000000e+03  3000.000000  \n",
       "mean                          0.0   133.766667  4.678609e+08   434.833333  \n",
       "std                           0.0    82.259555  5.010275e+08   278.940032  \n",
       "min                           0.0     2.000000  1.164000e+03     3.000000  \n",
       "25%                           0.0    49.000000  1.188473e+07   165.000000  \n",
       "50%                           0.0   140.500000  3.178016e+08   495.500000  \n",
       "75%                           0.0   208.000000  7.876720e+08   668.000000  \n",
       "max                           0.0   247.000000  2.712768e+09   934.000000  "
      ]
     },
     "execution_count": 47,
     "metadata": {},
     "output_type": "execute_result"
    }
   ],
   "source": [
    "permutaYReemplazaPokeparadas.describe()"
   ]
  },
  {
   "cell_type": "markdown",
   "metadata": {},
   "source": [
    "## Porcentaje de mejora\n",
    "\n",
    "porcentaje de mejora = 100 - (distanciaNueva * 100 / distanciaOriginal)"
   ]
  },
  {
   "cell_type": "code",
   "execution_count": 48,
   "metadata": {
    "collapsed": true
   },
   "outputs": [],
   "source": [
    "permutaCamino['porcentajeMejora'] = 100 - (permutaCamino['distanciaNueva'] * 100 / permutaCamino['distanciaOriginal'])\n",
    "permutaYReemplazaPokeparadas['porcentajeMejora'] = 100 - (permutaYReemplazaPokeparadas['distanciaNueva'] * 100 / permutaYReemplazaPokeparadas['distanciaOriginal'])"
   ]
  },
  {
   "cell_type": "code",
   "execution_count": 49,
   "metadata": {
    "collapsed": false
   },
   "outputs": [
    {
     "data": {
      "text/plain": [
       "count    3000.000000\n",
       "mean       70.201509\n",
       "std        20.632809\n",
       "min         0.000000\n",
       "25%        71.430701\n",
       "50%        78.813012\n",
       "75%        81.084917\n",
       "max        84.686633\n",
       "Name: porcentajeMejora, dtype: float64"
      ]
     },
     "execution_count": 49,
     "metadata": {},
     "output_type": "execute_result"
    }
   ],
   "source": [
    "permutaCamino['porcentajeMejora'].describe()"
   ]
  },
  {
   "cell_type": "code",
   "execution_count": 50,
   "metadata": {
    "collapsed": false
   },
   "outputs": [
    {
     "data": {
      "text/plain": [
       "count    3000.000000\n",
       "mean        8.155963\n",
       "std         3.791787\n",
       "min         0.000000\n",
       "25%         6.898516\n",
       "50%         7.808695\n",
       "75%         9.145308\n",
       "max        23.047859\n",
       "Name: porcentajeMejora, dtype: float64"
      ]
     },
     "execution_count": 50,
     "metadata": {},
     "output_type": "execute_result"
    }
   ],
   "source": [
    "permutaYReemplazaPokeparadas['porcentajeMejora'].describe()"
   ]
  },
  {
   "cell_type": "markdown",
   "metadata": {},
   "source": [
    "## \\#cambios"
   ]
  },
  {
   "cell_type": "code",
   "execution_count": 51,
   "metadata": {
    "collapsed": true
   },
   "outputs": [],
   "source": [
    "permutaCamino['cantCambios'] = permutaCamino['cantPermutacionesParaMejorar'] + permutaCamino['cantReemplazosParaMejorar'] +  permutaCamino['cantPermutacionesParaMantener'] + permutaCamino['cantReemplazosParaMantener']\n",
    "permutaYReemplazaPokeparadas['cantCambios'] = permutaYReemplazaPokeparadas['cantPermutacionesParaMejorar'] + permutaYReemplazaPokeparadas['cantReemplazosParaMejorar'] + permutaYReemplazaPokeparadas['cantPermutacionesParaMantener'] + permutaYReemplazaPokeparadas['cantReemplazosParaMantener']\n",
    "\n",
    "permutaCamino['cantCambiosSobreCantNodos'] = permutaCamino['cantCambios'] / permutaCamino['cantNodos']\n",
    "permutaYReemplazaPokeparadas['cantCambiosSobreCantNodos'] = permutaYReemplazaPokeparadas['cantCambios'] / permutaYReemplazaPokeparadas['cantNodos']"
   ]
  },
  {
   "cell_type": "code",
   "execution_count": 52,
   "metadata": {
    "collapsed": false
   },
   "outputs": [
    {
     "data": {
      "text/plain": [
       "count    3000.000000\n",
       "mean        1.816717\n",
       "std         0.956479\n",
       "min         0.000000\n",
       "25%         1.470000\n",
       "50%         1.826532\n",
       "75%         2.372694\n",
       "max         3.927046\n",
       "Name: cantCambiosSobreCantNodos, dtype: float64"
      ]
     },
     "execution_count": 52,
     "metadata": {},
     "output_type": "execute_result"
    }
   ],
   "source": [
    "permutaCamino['cantCambiosSobreCantNodos'].describe()"
   ]
  },
  {
   "cell_type": "code",
   "execution_count": 53,
   "metadata": {
    "collapsed": false
   },
   "outputs": [
    {
     "data": {
      "text/plain": [
       "count    3000.000000\n",
       "mean        0.538537\n",
       "std         0.247101\n",
       "min         0.000000\n",
       "25%         0.400000\n",
       "50%         0.528944\n",
       "75%         0.700348\n",
       "max         1.079245\n",
       "Name: cantCambiosSobreCantNodos, dtype: float64"
      ]
     },
     "execution_count": 53,
     "metadata": {},
     "output_type": "execute_result"
    }
   ],
   "source": [
    "permutaYReemplazaPokeparadas['cantCambiosSobreCantNodos'].describe()"
   ]
  },
  {
   "cell_type": "code",
   "execution_count": 56,
   "metadata": {
    "collapsed": true
   },
   "outputs": [],
   "source": [
    "fig, ax = plt.subplots()\n",
    "\n",
    "ax = permutaCamino.groupby('cantNodos').mean()['cantCambiosSobreCantNodos'].plot(color='mediumseagreen', linewidth = 1)\n",
    "permutaYReemplazaPokeparadas.groupby('cantNodos').mean()['cantCambiosSobreCantNodos'].plot(color='cornflowerblue', linewidth = 1, ax=ax)\n",
    "\n",
    "plt.xlabel('n + m')\n",
    "plt.ylabel(r'$\\frac{\\# cambios}{n+m}$')\n",
    "ax.set_ylim([-1, 6])\n",
    "plt.rcParams.update({'font.size': 8})\n",
    "\n",
    "legend = ax.legend(['Permuta el camino', 'Permuta y reemplaza pokeparadas',], loc = 'upper center', bbox_to_anchor = (0.5, -0.15), fancybox = True, shadow = True, ncol = 2)\n",
    "frame = legend.get_frame()\n",
    "frame.set_facecolor('white')\n",
    "frame.set_linewidth(0)\n",
    "\n",
    "#plt.show()\n",
    "plt.gcf().set_size_inches(6, 4)\n",
    "plt.savefig('expMejor_cantCambios.pdf', format='pdf', bbox_inches = 'tight', dpi = 100)"
   ]
  },
  {
   "cell_type": "code",
   "execution_count": null,
   "metadata": {
    "collapsed": true
   },
   "outputs": [],
   "source": []
  }
 ],
 "metadata": {
  "kernelspec": {
   "display_name": "Python 2",
   "language": "python",
   "name": "python2"
  },
  "language_info": {
   "codemirror_mode": {
    "name": "ipython",
    "version": 2
   },
   "file_extension": ".py",
   "mimetype": "text/x-python",
   "name": "python",
   "nbconvert_exporter": "python",
   "pygments_lexer": "ipython2",
   "version": "2.7.12"
  }
 },
 "nbformat": 4,
 "nbformat_minor": 0
}
