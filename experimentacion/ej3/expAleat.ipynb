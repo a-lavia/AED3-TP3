{
 "cells": [
  {
   "cell_type": "markdown",
   "metadata": {},
   "source": [
    "# Experimentos con instancias aleatorias"
   ]
  },
  {
   "cell_type": "code",
   "execution_count": 54,
   "metadata": {
    "collapsed": true
   },
   "outputs": [],
   "source": [
    "# -*- coding: utf-8 -*-\n",
    "\n",
    "import pandas as pd\n",
    "import matplotlib.pyplot as plt\n",
    "import numpy as np\n",
    "\n",
    "plt.style.use('ggplot')"
   ]
  },
  {
   "cell_type": "markdown",
   "metadata": {},
   "source": [
    "## Lectura de archivos"
   ]
  },
  {
   "cell_type": "code",
   "execution_count": 55,
   "metadata": {
    "collapsed": false
   },
   "outputs": [],
   "source": [
    "aleatPermutaCamino = pd.read_csv('exp-ej3-aleat-permutaCamino.csv')\n",
    "aleatPermutaYReemplazaPokeparadas = pd.read_csv('exp-ej3-aleat-permutaYReemplazaPokeparadas.csv')"
   ]
  },
  {
   "cell_type": "markdown",
   "metadata": {},
   "source": [
    "## Descripción de los datos"
   ]
  },
  {
   "cell_type": "code",
   "execution_count": 56,
   "metadata": {
    "collapsed": false
   },
   "outputs": [
    {
     "data": {
      "text/html": [
       "<div>\n",
       "<table border=\"1\" class=\"dataframe\">\n",
       "  <thead>\n",
       "    <tr style=\"text-align: right;\">\n",
       "      <th></th>\n",
       "      <th>cantGimnasios</th>\n",
       "      <th>cantPokeparadas</th>\n",
       "      <th>tamMochila</th>\n",
       "      <th>distanciaOriginal</th>\n",
       "      <th>distanciaNueva</th>\n",
       "      <th>cantPermutacionesParaMejorar</th>\n",
       "      <th>cantPermutacionesParaMantener</th>\n",
       "      <th>cantReemplazosParaMejorar</th>\n",
       "      <th>cantReemplazosParaMantener</th>\n",
       "      <th>tamCamino</th>\n",
       "      <th>tiempo</th>\n",
       "    </tr>\n",
       "  </thead>\n",
       "  <tbody>\n",
       "    <tr>\n",
       "      <th>count</th>\n",
       "      <td>30.000000</td>\n",
       "      <td>30.000000</td>\n",
       "      <td>30.0</td>\n",
       "      <td>30.000000</td>\n",
       "      <td>30.000000</td>\n",
       "      <td>30.000000</td>\n",
       "      <td>30.000000</td>\n",
       "      <td>30.0</td>\n",
       "      <td>30.0</td>\n",
       "      <td>30.000000</td>\n",
       "      <td>3.000000e+01</td>\n",
       "    </tr>\n",
       "    <tr>\n",
       "      <th>mean</th>\n",
       "      <td>49.866667</td>\n",
       "      <td>384.100000</td>\n",
       "      <td>12.0</td>\n",
       "      <td>14830.133333</td>\n",
       "      <td>13644.866667</td>\n",
       "      <td>46.266667</td>\n",
       "      <td>0.066667</td>\n",
       "      <td>0.0</td>\n",
       "      <td>0.0</td>\n",
       "      <td>134.533333</td>\n",
       "      <td>9.042003e+07</td>\n",
       "    </tr>\n",
       "    <tr>\n",
       "      <th>std</th>\n",
       "      <td>31.775867</td>\n",
       "      <td>266.102307</td>\n",
       "      <td>0.0</td>\n",
       "      <td>6932.731823</td>\n",
       "      <td>6476.993235</td>\n",
       "      <td>30.696437</td>\n",
       "      <td>0.365148</td>\n",
       "      <td>0.0</td>\n",
       "      <td>0.0</td>\n",
       "      <td>86.839818</td>\n",
       "      <td>1.109231e+08</td>\n",
       "    </tr>\n",
       "    <tr>\n",
       "      <th>min</th>\n",
       "      <td>2.000000</td>\n",
       "      <td>17.000000</td>\n",
       "      <td>12.0</td>\n",
       "      <td>848.000000</td>\n",
       "      <td>848.000000</td>\n",
       "      <td>0.000000</td>\n",
       "      <td>0.000000</td>\n",
       "      <td>0.0</td>\n",
       "      <td>0.0</td>\n",
       "      <td>5.000000</td>\n",
       "      <td>5.418360e+03</td>\n",
       "    </tr>\n",
       "    <tr>\n",
       "      <th>25%</th>\n",
       "      <td>25.250000</td>\n",
       "      <td>148.000000</td>\n",
       "      <td>12.0</td>\n",
       "      <td>9901.250000</td>\n",
       "      <td>8988.500000</td>\n",
       "      <td>21.750000</td>\n",
       "      <td>0.000000</td>\n",
       "      <td>0.0</td>\n",
       "      <td>0.0</td>\n",
       "      <td>65.750000</td>\n",
       "      <td>5.512568e+06</td>\n",
       "    </tr>\n",
       "    <tr>\n",
       "      <th>50%</th>\n",
       "      <td>46.000000</td>\n",
       "      <td>345.000000</td>\n",
       "      <td>12.0</td>\n",
       "      <td>14575.500000</td>\n",
       "      <td>13441.000000</td>\n",
       "      <td>44.000000</td>\n",
       "      <td>0.000000</td>\n",
       "      <td>0.0</td>\n",
       "      <td>0.0</td>\n",
       "      <td>124.500000</td>\n",
       "      <td>3.007075e+07</td>\n",
       "    </tr>\n",
       "    <tr>\n",
       "      <th>75%</th>\n",
       "      <td>83.000000</td>\n",
       "      <td>602.000000</td>\n",
       "      <td>12.0</td>\n",
       "      <td>20304.250000</td>\n",
       "      <td>18726.000000</td>\n",
       "      <td>74.250000</td>\n",
       "      <td>0.000000</td>\n",
       "      <td>0.0</td>\n",
       "      <td>0.0</td>\n",
       "      <td>227.000000</td>\n",
       "      <td>1.825642e+08</td>\n",
       "    </tr>\n",
       "    <tr>\n",
       "      <th>max</th>\n",
       "      <td>100.000000</td>\n",
       "      <td>1004.000000</td>\n",
       "      <td>12.0</td>\n",
       "      <td>25106.000000</td>\n",
       "      <td>23301.000000</td>\n",
       "      <td>112.000000</td>\n",
       "      <td>2.000000</td>\n",
       "      <td>0.0</td>\n",
       "      <td>0.0</td>\n",
       "      <td>274.000000</td>\n",
       "      <td>3.104280e+08</td>\n",
       "    </tr>\n",
       "  </tbody>\n",
       "</table>\n",
       "</div>"
      ],
      "text/plain": [
       "       cantGimnasios  cantPokeparadas  tamMochila  distanciaOriginal  \\\n",
       "count      30.000000        30.000000        30.0          30.000000   \n",
       "mean       49.866667       384.100000        12.0       14830.133333   \n",
       "std        31.775867       266.102307         0.0        6932.731823   \n",
       "min         2.000000        17.000000        12.0         848.000000   \n",
       "25%        25.250000       148.000000        12.0        9901.250000   \n",
       "50%        46.000000       345.000000        12.0       14575.500000   \n",
       "75%        83.000000       602.000000        12.0       20304.250000   \n",
       "max       100.000000      1004.000000        12.0       25106.000000   \n",
       "\n",
       "       distanciaNueva  cantPermutacionesParaMejorar  \\\n",
       "count       30.000000                     30.000000   \n",
       "mean     13644.866667                     46.266667   \n",
       "std       6476.993235                     30.696437   \n",
       "min        848.000000                      0.000000   \n",
       "25%       8988.500000                     21.750000   \n",
       "50%      13441.000000                     44.000000   \n",
       "75%      18726.000000                     74.250000   \n",
       "max      23301.000000                    112.000000   \n",
       "\n",
       "       cantPermutacionesParaMantener  cantReemplazosParaMejorar  \\\n",
       "count                      30.000000                       30.0   \n",
       "mean                        0.066667                        0.0   \n",
       "std                         0.365148                        0.0   \n",
       "min                         0.000000                        0.0   \n",
       "25%                         0.000000                        0.0   \n",
       "50%                         0.000000                        0.0   \n",
       "75%                         0.000000                        0.0   \n",
       "max                         2.000000                        0.0   \n",
       "\n",
       "       cantReemplazosParaMantener   tamCamino        tiempo  \n",
       "count                        30.0   30.000000  3.000000e+01  \n",
       "mean                          0.0  134.533333  9.042003e+07  \n",
       "std                           0.0   86.839818  1.109231e+08  \n",
       "min                           0.0    5.000000  5.418360e+03  \n",
       "25%                           0.0   65.750000  5.512568e+06  \n",
       "50%                           0.0  124.500000  3.007075e+07  \n",
       "75%                           0.0  227.000000  1.825642e+08  \n",
       "max                           0.0  274.000000  3.104280e+08  "
      ]
     },
     "execution_count": 56,
     "metadata": {},
     "output_type": "execute_result"
    }
   ],
   "source": [
    "aleatPermutaCamino.describe()"
   ]
  },
  {
   "cell_type": "code",
   "execution_count": 57,
   "metadata": {
    "collapsed": false,
    "scrolled": true
   },
   "outputs": [
    {
     "data": {
      "text/html": [
       "<div>\n",
       "<table border=\"1\" class=\"dataframe\">\n",
       "  <thead>\n",
       "    <tr style=\"text-align: right;\">\n",
       "      <th></th>\n",
       "      <th>cantGimnasios</th>\n",
       "      <th>cantPokeparadas</th>\n",
       "      <th>tamMochila</th>\n",
       "      <th>distanciaOriginal</th>\n",
       "      <th>distanciaNueva</th>\n",
       "      <th>cantPermutacionesParaMejorar</th>\n",
       "      <th>cantPermutacionesParaMantener</th>\n",
       "      <th>cantReemplazosParaMejorar</th>\n",
       "      <th>cantReemplazosParaMantener</th>\n",
       "      <th>tamCamino</th>\n",
       "      <th>tiempo</th>\n",
       "    </tr>\n",
       "  </thead>\n",
       "  <tbody>\n",
       "    <tr>\n",
       "      <th>count</th>\n",
       "      <td>30.000000</td>\n",
       "      <td>30.000000</td>\n",
       "      <td>30.0</td>\n",
       "      <td>30.000000</td>\n",
       "      <td>30.000000</td>\n",
       "      <td>30.000000</td>\n",
       "      <td>30.0</td>\n",
       "      <td>30.000000</td>\n",
       "      <td>30.000000</td>\n",
       "      <td>30.000000</td>\n",
       "      <td>3.000000e+01</td>\n",
       "    </tr>\n",
       "    <tr>\n",
       "      <th>mean</th>\n",
       "      <td>49.866667</td>\n",
       "      <td>384.100000</td>\n",
       "      <td>12.0</td>\n",
       "      <td>14830.133333</td>\n",
       "      <td>13417.600000</td>\n",
       "      <td>13.766667</td>\n",
       "      <td>0.0</td>\n",
       "      <td>126.200000</td>\n",
       "      <td>0.033333</td>\n",
       "      <td>134.533333</td>\n",
       "      <td>3.741897e+08</td>\n",
       "    </tr>\n",
       "    <tr>\n",
       "      <th>std</th>\n",
       "      <td>31.775867</td>\n",
       "      <td>266.102307</td>\n",
       "      <td>0.0</td>\n",
       "      <td>6932.731823</td>\n",
       "      <td>6334.349666</td>\n",
       "      <td>10.050505</td>\n",
       "      <td>0.0</td>\n",
       "      <td>92.631044</td>\n",
       "      <td>0.182574</td>\n",
       "      <td>86.839818</td>\n",
       "      <td>5.127227e+08</td>\n",
       "    </tr>\n",
       "    <tr>\n",
       "      <th>min</th>\n",
       "      <td>2.000000</td>\n",
       "      <td>17.000000</td>\n",
       "      <td>12.0</td>\n",
       "      <td>848.000000</td>\n",
       "      <td>752.000000</td>\n",
       "      <td>0.000000</td>\n",
       "      <td>0.0</td>\n",
       "      <td>1.000000</td>\n",
       "      <td>0.000000</td>\n",
       "      <td>5.000000</td>\n",
       "      <td>3.015440e+04</td>\n",
       "    </tr>\n",
       "    <tr>\n",
       "      <th>25%</th>\n",
       "      <td>25.250000</td>\n",
       "      <td>148.000000</td>\n",
       "      <td>12.0</td>\n",
       "      <td>9901.250000</td>\n",
       "      <td>8950.000000</td>\n",
       "      <td>6.250000</td>\n",
       "      <td>0.0</td>\n",
       "      <td>45.750000</td>\n",
       "      <td>0.000000</td>\n",
       "      <td>65.750000</td>\n",
       "      <td>1.192592e+07</td>\n",
       "    </tr>\n",
       "    <tr>\n",
       "      <th>50%</th>\n",
       "      <td>46.000000</td>\n",
       "      <td>345.000000</td>\n",
       "      <td>12.0</td>\n",
       "      <td>14575.500000</td>\n",
       "      <td>13250.000000</td>\n",
       "      <td>11.500000</td>\n",
       "      <td>0.0</td>\n",
       "      <td>118.000000</td>\n",
       "      <td>0.000000</td>\n",
       "      <td>124.500000</td>\n",
       "      <td>1.024026e+08</td>\n",
       "    </tr>\n",
       "    <tr>\n",
       "      <th>75%</th>\n",
       "      <td>83.000000</td>\n",
       "      <td>602.000000</td>\n",
       "      <td>12.0</td>\n",
       "      <td>20304.250000</td>\n",
       "      <td>18261.500000</td>\n",
       "      <td>22.000000</td>\n",
       "      <td>0.0</td>\n",
       "      <td>181.500000</td>\n",
       "      <td>0.000000</td>\n",
       "      <td>227.000000</td>\n",
       "      <td>5.647335e+08</td>\n",
       "    </tr>\n",
       "    <tr>\n",
       "      <th>max</th>\n",
       "      <td>100.000000</td>\n",
       "      <td>1004.000000</td>\n",
       "      <td>12.0</td>\n",
       "      <td>25106.000000</td>\n",
       "      <td>22972.000000</td>\n",
       "      <td>31.000000</td>\n",
       "      <td>0.0</td>\n",
       "      <td>337.000000</td>\n",
       "      <td>1.000000</td>\n",
       "      <td>274.000000</td>\n",
       "      <td>2.001470e+09</td>\n",
       "    </tr>\n",
       "  </tbody>\n",
       "</table>\n",
       "</div>"
      ],
      "text/plain": [
       "       cantGimnasios  cantPokeparadas  tamMochila  distanciaOriginal  \\\n",
       "count      30.000000        30.000000        30.0          30.000000   \n",
       "mean       49.866667       384.100000        12.0       14830.133333   \n",
       "std        31.775867       266.102307         0.0        6932.731823   \n",
       "min         2.000000        17.000000        12.0         848.000000   \n",
       "25%        25.250000       148.000000        12.0        9901.250000   \n",
       "50%        46.000000       345.000000        12.0       14575.500000   \n",
       "75%        83.000000       602.000000        12.0       20304.250000   \n",
       "max       100.000000      1004.000000        12.0       25106.000000   \n",
       "\n",
       "       distanciaNueva  cantPermutacionesParaMejorar  \\\n",
       "count       30.000000                     30.000000   \n",
       "mean     13417.600000                     13.766667   \n",
       "std       6334.349666                     10.050505   \n",
       "min        752.000000                      0.000000   \n",
       "25%       8950.000000                      6.250000   \n",
       "50%      13250.000000                     11.500000   \n",
       "75%      18261.500000                     22.000000   \n",
       "max      22972.000000                     31.000000   \n",
       "\n",
       "       cantPermutacionesParaMantener  cantReemplazosParaMejorar  \\\n",
       "count                           30.0                  30.000000   \n",
       "mean                             0.0                 126.200000   \n",
       "std                              0.0                  92.631044   \n",
       "min                              0.0                   1.000000   \n",
       "25%                              0.0                  45.750000   \n",
       "50%                              0.0                 118.000000   \n",
       "75%                              0.0                 181.500000   \n",
       "max                              0.0                 337.000000   \n",
       "\n",
       "       cantReemplazosParaMantener   tamCamino        tiempo  \n",
       "count                   30.000000   30.000000  3.000000e+01  \n",
       "mean                     0.033333  134.533333  3.741897e+08  \n",
       "std                      0.182574   86.839818  5.127227e+08  \n",
       "min                      0.000000    5.000000  3.015440e+04  \n",
       "25%                      0.000000   65.750000  1.192592e+07  \n",
       "50%                      0.000000  124.500000  1.024026e+08  \n",
       "75%                      0.000000  227.000000  5.647335e+08  \n",
       "max                      1.000000  274.000000  2.001470e+09  "
      ]
     },
     "execution_count": 57,
     "metadata": {},
     "output_type": "execute_result"
    }
   ],
   "source": [
    "aleatPermutaYReemplazaPokeparadas.describe()"
   ]
  },
  {
   "cell_type": "markdown",
   "metadata": {},
   "source": [
    "## Comparación con la complejidad teórica"
   ]
  },
  {
   "cell_type": "markdown",
   "metadata": {},
   "source": [
    "### permutaCamino"
   ]
  },
  {
   "cell_type": "code",
   "execution_count": 58,
   "metadata": {
    "collapsed": true
   },
   "outputs": [],
   "source": [
    "aleatPermutaCamino['cantNodos'] = aleatPermutaCamino['cantGimnasios'] + aleatPermutaCamino['cantPokeparadas']\n",
    "aleatPermutaCamino['complejidad'] = aleatPermutaCamino['cantNodos'] * aleatPermutaCamino['cantNodos'] * aleatPermutaCamino['cantNodos'] * np.log2(aleatPermutaCamino['cantNodos'])\n",
    "aleatPermutaCamino['tiempoSobreComplejidad'] = aleatPermutaCamino['tiempo'] / aleatPermutaCamino['complejidad']"
   ]
  },
  {
   "cell_type": "code",
   "execution_count": 59,
   "metadata": {
    "collapsed": false
   },
   "outputs": [],
   "source": [
    "fig, ax = plt.subplots()\n",
    "\n",
    "aleatPermutaCamino.sort_values(by='cantNodos').plot(x='cantNodos', y='tiempoSobreComplejidad', ax=ax)\n",
    "\n",
    "plt.xlabel(r'$n + m$')\n",
    "plt.ylabel(r'$\\frac{Tiempo(ciclos)}{(n+m)^3 \\times log(n+m)}$')\n",
    "ax.legend().set_visible(False)\n",
    "\n",
    "plt.show()\n",
    "\n",
    "#plt.gcf().set_size_inches(7, 5)\n",
    "#plt.savefig('nombre.pdf', format='pdf', bbox_inches = 'tight', dpi = 100)"
   ]
  },
  {
   "cell_type": "markdown",
   "metadata": {},
   "source": [
    "### permutaYReemplazaPokeparadas"
   ]
  },
  {
   "cell_type": "code",
   "execution_count": 23,
   "metadata": {
    "collapsed": true
   },
   "outputs": [],
   "source": [
    "aleatPermutaYReemplazaPokeparadas['cantNodos'] = aleatPermutaYReemplazaPokeparadas['cantGimnasios'] + aleatPermutaYReemplazaPokeparadas['cantPokeparadas']"
   ]
  },
  {
   "cell_type": "code",
   "execution_count": 24,
   "metadata": {
    "collapsed": true
   },
   "outputs": [],
   "source": [
    "fig, ax = plt.subplots()\n",
    "\n",
    "aleatPermutaYReemplazaPokeparadas.sort_values(by='cantNodos').plot(x='cantNodos', y='tiempo', ax=ax)\n",
    "\n",
    "plt.xlabel(u'#nodos = n + m')\n",
    "plt.ylabel('Tiempo (ciclos)')\n",
    "ax.legend().set_visible(False)\n",
    "\n",
    "plt.show()\n",
    "\n",
    "#plt.gcf().set_size_inches(7, 5)\n",
    "#plt.savefig('nombre.pdf', format='pdf', bbox_inches = 'tight', dpi = 100)"
   ]
  },
  {
   "cell_type": "markdown",
   "metadata": {},
   "source": [
    "## Porcentaje de mejora en cada vecindad\n",
    "\n",
    "porcentaje de mejora = 100 - (distanciaNueva * 100 / distanciaOriginal)"
   ]
  },
  {
   "cell_type": "code",
   "execution_count": 25,
   "metadata": {
    "collapsed": false
   },
   "outputs": [],
   "source": [
    "aleatPermutaCamino['porcentajeMejora'] = 100 - (aleatPermutaCamino['distanciaNueva'] * 100 / aleatPermutaCamino['distanciaOriginal'])\n",
    "aleatPermutaYReemplazaPokeparadas['porcentajeMejora'] = 100 - (aleatPermutaYReemplazaPokeparadas['distanciaNueva'] * 100 / aleatPermutaYReemplazaPokeparadas['distanciaOriginal'])"
   ]
  },
  {
   "cell_type": "code",
   "execution_count": 26,
   "metadata": {
    "collapsed": false
   },
   "outputs": [
    {
     "data": {
      "text/plain": [
       "count    30.000000\n",
       "mean      8.428378\n",
       "std       4.587184\n",
       "min       0.000000\n",
       "25%       6.434117\n",
       "50%       7.652636\n",
       "75%       9.470141\n",
       "max      26.411913\n",
       "Name: porcentajeMejora, dtype: float64"
      ]
     },
     "execution_count": 26,
     "metadata": {},
     "output_type": "execute_result"
    }
   ],
   "source": [
    "aleatPermutaCamino['porcentajeMejora'].describe()"
   ]
  },
  {
   "cell_type": "code",
   "execution_count": 27,
   "metadata": {
    "collapsed": false
   },
   "outputs": [
    {
     "data": {
      "text/plain": [
       "count    30.000000\n",
       "mean      9.793100\n",
       "std       1.515202\n",
       "min       6.829981\n",
       "25%       8.890553\n",
       "50%       9.963469\n",
       "75%      10.532885\n",
       "max      14.329214\n",
       "Name: porcentajeMejora, dtype: float64"
      ]
     },
     "execution_count": 27,
     "metadata": {},
     "output_type": "execute_result"
    }
   ],
   "source": [
    "aleatPermutaYReemplazaPokeparadas['porcentajeMejora'].describe()"
   ]
  },
  {
   "cell_type": "markdown",
   "metadata": {},
   "source": [
    "### Grafico de cantPokeparadas vs porcentajeMejora"
   ]
  },
  {
   "cell_type": "code",
   "execution_count": 28,
   "metadata": {
    "collapsed": false
   },
   "outputs": [],
   "source": [
    "ax = aleatPermutaCamino.sort_values(by='cantPokeparadas').plot(x='cantPokeparadas',\n",
    "                                                               y='porcentajeMejora', label='permutaCamino')\n",
    "aleatPermutaYReemplazaPokeparadas.sort_values(by='cantPokeparadas').plot(x='cantPokeparadas',y='porcentajeMejora', label='permutaYReemplazaPokeparas', ax=ax)\n",
    "\n",
    "plt.xlabel('Porcentaje de mejora')\n",
    "plt.ylabel('Tiempo (ciclos)')\n",
    "\n",
    "plt.show()\n",
    "\n",
    "#plt.gcf().set_size_inches(7, 5)\n",
    "#plt.savefig('nombre.pdf', format='pdf', bbox_inches = 'tight', dpi = 100)"
   ]
  },
  {
   "cell_type": "markdown",
   "metadata": {},
   "source": [
    "## Cantidad de cambios en cada vecindad"
   ]
  },
  {
   "cell_type": "code",
   "execution_count": 123,
   "metadata": {
    "collapsed": false
   },
   "outputs": [],
   "source": [
    "aleatPermutaCamino['cantCambiosParaMejorar'] = aleatPermutaCamino['cantPermutacionesParaMejorar'] + aleatPermutaCamino['cantReemplazosParaMejorar']\n",
    "aleatPermutaYReemplazaPokeparadas['cantCambiosParaMejorar'] = aleatPermutaYReemplazaPokeparadas['cantPermutacionesParaMejorar'] + aleatPermutaYReemplazaPokeparadas['cantReemplazosParaMejorar']"
   ]
  },
  {
   "cell_type": "code",
   "execution_count": 124,
   "metadata": {
    "collapsed": false
   },
   "outputs": [
    {
     "data": {
      "text/plain": [
       "count     30.000000\n",
       "mean      46.266667\n",
       "std       30.696437\n",
       "min        0.000000\n",
       "25%       21.750000\n",
       "50%       44.000000\n",
       "75%       74.250000\n",
       "max      112.000000\n",
       "Name: cantCambiosParaMejorar, dtype: float64"
      ]
     },
     "execution_count": 124,
     "metadata": {},
     "output_type": "execute_result"
    }
   ],
   "source": [
    "aleatPermutaCamino['cantCambiosParaMejorar'].describe()"
   ]
  },
  {
   "cell_type": "code",
   "execution_count": 125,
   "metadata": {
    "collapsed": false
   },
   "outputs": [
    {
     "data": {
      "text/plain": [
       "count     30.000000\n",
       "mean     139.966667\n",
       "std      100.835983\n",
       "min        1.000000\n",
       "25%       55.000000\n",
       "50%      132.500000\n",
       "75%      211.000000\n",
       "max      368.000000\n",
       "Name: cantCambiosParaMejorar, dtype: float64"
      ]
     },
     "execution_count": 125,
     "metadata": {},
     "output_type": "execute_result"
    }
   ],
   "source": [
    "aleatPermutaYReemplazaPokeparadas['cantCambiosParaMejorar'].describe()"
   ]
  }
 ],
 "metadata": {
  "kernelspec": {
   "display_name": "Python 2",
   "language": "python",
   "name": "python2"
  },
  "language_info": {
   "codemirror_mode": {
    "name": "ipython",
    "version": 2
   },
   "file_extension": ".py",
   "mimetype": "text/x-python",
   "name": "python",
   "nbconvert_exporter": "python",
   "pygments_lexer": "ipython2",
   "version": "2.7.12"
  }
 },
 "nbformat": 4,
 "nbformat_minor": 0
}
