{
 "cells": [
  {
   "cell_type": "markdown",
   "metadata": {},
   "source": [
    "# Instancias aleatorias"
   ]
  },
  {
   "cell_type": "code",
   "execution_count": 2,
   "metadata": {
    "collapsed": true
   },
   "outputs": [],
   "source": [
    "# -*- coding: utf-8 -*-\n",
    "\n",
    "import pandas as pd\n",
    "import matplotlib.pyplot as plt\n",
    "import numpy as np\n",
    "\n",
    "plt.style.use('ggplot')"
   ]
  },
  {
   "cell_type": "markdown",
   "metadata": {},
   "source": [
    "## Lectura de archivos"
   ]
  },
  {
   "cell_type": "code",
   "execution_count": 3,
   "metadata": {
    "collapsed": false
   },
   "outputs": [],
   "source": [
    "permutaCamino = pd.read_csv('exp-ej3-aleat-permutaCamino.csv')\n",
    "permutaYReemplazaPokeparadas = pd.read_csv('exp-ej3-aleat-permutaYReemplazaPokeparadas.csv')"
   ]
  },
  {
   "cell_type": "markdown",
   "metadata": {},
   "source": [
    "## Descripción de los datos"
   ]
  },
  {
   "cell_type": "code",
   "execution_count": 4,
   "metadata": {
    "collapsed": true
   },
   "outputs": [],
   "source": [
    "permutaCamino['cantNodos'] = permutaCamino['cantGimnasios'] + permutaCamino['cantPokeparadas']\n",
    "permutaYReemplazaPokeparadas['cantNodos'] = permutaYReemplazaPokeparadas['cantGimnasios'] + permutaYReemplazaPokeparadas['cantPokeparadas']"
   ]
  },
  {
   "cell_type": "code",
   "execution_count": 5,
   "metadata": {
    "collapsed": false
   },
   "outputs": [
    {
     "data": {
      "text/html": [
       "<div>\n",
       "<table border=\"1\" class=\"dataframe\">\n",
       "  <thead>\n",
       "    <tr style=\"text-align: right;\">\n",
       "      <th></th>\n",
       "      <th>cantGimnasios</th>\n",
       "      <th>cantPokeparadas</th>\n",
       "      <th>tamMochila</th>\n",
       "      <th>distanciaOriginal</th>\n",
       "      <th>distanciaNueva</th>\n",
       "      <th>cantPermutacionesParaMejorar</th>\n",
       "      <th>cantPermutacionesParaMantener</th>\n",
       "      <th>cantReemplazosParaMejorar</th>\n",
       "      <th>cantReemplazosParaMantener</th>\n",
       "      <th>tamCamino</th>\n",
       "      <th>tiempo</th>\n",
       "      <th>cantNodos</th>\n",
       "    </tr>\n",
       "  </thead>\n",
       "  <tbody>\n",
       "    <tr>\n",
       "      <th>count</th>\n",
       "      <td>3000.000000</td>\n",
       "      <td>3000.000000</td>\n",
       "      <td>3000.0</td>\n",
       "      <td>3000.000000</td>\n",
       "      <td>3000.000000</td>\n",
       "      <td>3000.000000</td>\n",
       "      <td>3000.000000</td>\n",
       "      <td>3000.0</td>\n",
       "      <td>3000.0</td>\n",
       "      <td>3000.000000</td>\n",
       "      <td>3.000000e+03</td>\n",
       "      <td>3000.000000</td>\n",
       "    </tr>\n",
       "    <tr>\n",
       "      <th>mean</th>\n",
       "      <td>49.800000</td>\n",
       "      <td>385.033333</td>\n",
       "      <td>12.0</td>\n",
       "      <td>9125.366667</td>\n",
       "      <td>8000.433333</td>\n",
       "      <td>48.166667</td>\n",
       "      <td>0.066667</td>\n",
       "      <td>0.0</td>\n",
       "      <td>0.0</td>\n",
       "      <td>133.766667</td>\n",
       "      <td>1.167825e+08</td>\n",
       "      <td>434.833333</td>\n",
       "    </tr>\n",
       "    <tr>\n",
       "      <th>std</th>\n",
       "      <td>30.633415</td>\n",
       "      <td>250.684223</td>\n",
       "      <td>0.0</td>\n",
       "      <td>4149.657590</td>\n",
       "      <td>3605.898697</td>\n",
       "      <td>31.974151</td>\n",
       "      <td>0.359071</td>\n",
       "      <td>0.0</td>\n",
       "      <td>0.0</td>\n",
       "      <td>82.259555</td>\n",
       "      <td>1.265079e+08</td>\n",
       "      <td>278.940032</td>\n",
       "    </tr>\n",
       "    <tr>\n",
       "      <th>min</th>\n",
       "      <td>1.000000</td>\n",
       "      <td>2.000000</td>\n",
       "      <td>12.0</td>\n",
       "      <td>479.000000</td>\n",
       "      <td>479.000000</td>\n",
       "      <td>0.000000</td>\n",
       "      <td>0.000000</td>\n",
       "      <td>0.0</td>\n",
       "      <td>0.0</td>\n",
       "      <td>2.000000</td>\n",
       "      <td>1.035000e+03</td>\n",
       "      <td>3.000000</td>\n",
       "    </tr>\n",
       "    <tr>\n",
       "      <th>25%</th>\n",
       "      <td>18.000000</td>\n",
       "      <td>147.000000</td>\n",
       "      <td>12.0</td>\n",
       "      <td>5760.000000</td>\n",
       "      <td>5044.000000</td>\n",
       "      <td>20.000000</td>\n",
       "      <td>0.000000</td>\n",
       "      <td>0.0</td>\n",
       "      <td>0.0</td>\n",
       "      <td>49.000000</td>\n",
       "      <td>3.206050e+06</td>\n",
       "      <td>165.000000</td>\n",
       "    </tr>\n",
       "    <tr>\n",
       "      <th>50%</th>\n",
       "      <td>52.000000</td>\n",
       "      <td>441.000000</td>\n",
       "      <td>12.0</td>\n",
       "      <td>9676.000000</td>\n",
       "      <td>8707.500000</td>\n",
       "      <td>46.000000</td>\n",
       "      <td>0.000000</td>\n",
       "      <td>0.0</td>\n",
       "      <td>0.0</td>\n",
       "      <td>140.500000</td>\n",
       "      <td>5.073824e+07</td>\n",
       "      <td>495.500000</td>\n",
       "    </tr>\n",
       "    <tr>\n",
       "      <th>75%</th>\n",
       "      <td>77.000000</td>\n",
       "      <td>591.000000</td>\n",
       "      <td>12.0</td>\n",
       "      <td>12848.000000</td>\n",
       "      <td>11507.000000</td>\n",
       "      <td>73.000000</td>\n",
       "      <td>0.000000</td>\n",
       "      <td>0.0</td>\n",
       "      <td>0.0</td>\n",
       "      <td>208.000000</td>\n",
       "      <td>2.371840e+08</td>\n",
       "      <td>668.000000</td>\n",
       "    </tr>\n",
       "    <tr>\n",
       "      <th>max</th>\n",
       "      <td>95.000000</td>\n",
       "      <td>839.000000</td>\n",
       "      <td>12.0</td>\n",
       "      <td>15502.000000</td>\n",
       "      <td>12919.000000</td>\n",
       "      <td>127.000000</td>\n",
       "      <td>2.000000</td>\n",
       "      <td>0.0</td>\n",
       "      <td>0.0</td>\n",
       "      <td>247.000000</td>\n",
       "      <td>7.014216e+08</td>\n",
       "      <td>934.000000</td>\n",
       "    </tr>\n",
       "  </tbody>\n",
       "</table>\n",
       "</div>"
      ],
      "text/plain": [
       "       cantGimnasios  cantPokeparadas  tamMochila  distanciaOriginal  \\\n",
       "count    3000.000000      3000.000000      3000.0        3000.000000   \n",
       "mean       49.800000       385.033333        12.0        9125.366667   \n",
       "std        30.633415       250.684223         0.0        4149.657590   \n",
       "min         1.000000         2.000000        12.0         479.000000   \n",
       "25%        18.000000       147.000000        12.0        5760.000000   \n",
       "50%        52.000000       441.000000        12.0        9676.000000   \n",
       "75%        77.000000       591.000000        12.0       12848.000000   \n",
       "max        95.000000       839.000000        12.0       15502.000000   \n",
       "\n",
       "       distanciaNueva  cantPermutacionesParaMejorar  \\\n",
       "count     3000.000000                   3000.000000   \n",
       "mean      8000.433333                     48.166667   \n",
       "std       3605.898697                     31.974151   \n",
       "min        479.000000                      0.000000   \n",
       "25%       5044.000000                     20.000000   \n",
       "50%       8707.500000                     46.000000   \n",
       "75%      11507.000000                     73.000000   \n",
       "max      12919.000000                    127.000000   \n",
       "\n",
       "       cantPermutacionesParaMantener  cantReemplazosParaMejorar  \\\n",
       "count                    3000.000000                     3000.0   \n",
       "mean                        0.066667                        0.0   \n",
       "std                         0.359071                        0.0   \n",
       "min                         0.000000                        0.0   \n",
       "25%                         0.000000                        0.0   \n",
       "50%                         0.000000                        0.0   \n",
       "75%                         0.000000                        0.0   \n",
       "max                         2.000000                        0.0   \n",
       "\n",
       "       cantReemplazosParaMantener    tamCamino        tiempo    cantNodos  \n",
       "count                      3000.0  3000.000000  3.000000e+03  3000.000000  \n",
       "mean                          0.0   133.766667  1.167825e+08   434.833333  \n",
       "std                           0.0    82.259555  1.265079e+08   278.940032  \n",
       "min                           0.0     2.000000  1.035000e+03     3.000000  \n",
       "25%                           0.0    49.000000  3.206050e+06   165.000000  \n",
       "50%                           0.0   140.500000  5.073824e+07   495.500000  \n",
       "75%                           0.0   208.000000  2.371840e+08   668.000000  \n",
       "max                           0.0   247.000000  7.014216e+08   934.000000  "
      ]
     },
     "execution_count": 5,
     "metadata": {},
     "output_type": "execute_result"
    }
   ],
   "source": [
    "permutaCamino.describe()"
   ]
  },
  {
   "cell_type": "code",
   "execution_count": 6,
   "metadata": {
    "collapsed": false,
    "scrolled": false
   },
   "outputs": [
    {
     "data": {
      "text/html": [
       "<div>\n",
       "<table border=\"1\" class=\"dataframe\">\n",
       "  <thead>\n",
       "    <tr style=\"text-align: right;\">\n",
       "      <th></th>\n",
       "      <th>cantGimnasios</th>\n",
       "      <th>cantPokeparadas</th>\n",
       "      <th>tamMochila</th>\n",
       "      <th>distanciaOriginal</th>\n",
       "      <th>distanciaNueva</th>\n",
       "      <th>cantPermutacionesParaMejorar</th>\n",
       "      <th>cantPermutacionesParaMantener</th>\n",
       "      <th>cantReemplazosParaMejorar</th>\n",
       "      <th>cantReemplazosParaMantener</th>\n",
       "      <th>tamCamino</th>\n",
       "      <th>tiempo</th>\n",
       "      <th>cantNodos</th>\n",
       "    </tr>\n",
       "  </thead>\n",
       "  <tbody>\n",
       "    <tr>\n",
       "      <th>count</th>\n",
       "      <td>3000.000000</td>\n",
       "      <td>3000.000000</td>\n",
       "      <td>3000.0</td>\n",
       "      <td>3000.000000</td>\n",
       "      <td>3000.000000</td>\n",
       "      <td>3000.000000</td>\n",
       "      <td>3000.000000</td>\n",
       "      <td>3000.000000</td>\n",
       "      <td>3000.0</td>\n",
       "      <td>3000.000000</td>\n",
       "      <td>3.000000e+03</td>\n",
       "      <td>3000.000000</td>\n",
       "    </tr>\n",
       "    <tr>\n",
       "      <th>mean</th>\n",
       "      <td>49.800000</td>\n",
       "      <td>385.033333</td>\n",
       "      <td>12.0</td>\n",
       "      <td>9125.366667</td>\n",
       "      <td>7028.333333</td>\n",
       "      <td>29.933333</td>\n",
       "      <td>0.066667</td>\n",
       "      <td>87.066667</td>\n",
       "      <td>0.0</td>\n",
       "      <td>133.766667</td>\n",
       "      <td>3.324739e+08</td>\n",
       "      <td>434.833333</td>\n",
       "    </tr>\n",
       "    <tr>\n",
       "      <th>std</th>\n",
       "      <td>30.633415</td>\n",
       "      <td>250.684223</td>\n",
       "      <td>0.0</td>\n",
       "      <td>4149.657590</td>\n",
       "      <td>3220.520145</td>\n",
       "      <td>18.955615</td>\n",
       "      <td>0.359071</td>\n",
       "      <td>58.885352</td>\n",
       "      <td>0.0</td>\n",
       "      <td>82.259555</td>\n",
       "      <td>3.561434e+08</td>\n",
       "      <td>278.940032</td>\n",
       "    </tr>\n",
       "    <tr>\n",
       "      <th>min</th>\n",
       "      <td>1.000000</td>\n",
       "      <td>2.000000</td>\n",
       "      <td>12.0</td>\n",
       "      <td>479.000000</td>\n",
       "      <td>479.000000</td>\n",
       "      <td>0.000000</td>\n",
       "      <td>0.000000</td>\n",
       "      <td>0.000000</td>\n",
       "      <td>0.0</td>\n",
       "      <td>2.000000</td>\n",
       "      <td>1.108000e+03</td>\n",
       "      <td>3.000000</td>\n",
       "    </tr>\n",
       "    <tr>\n",
       "      <th>25%</th>\n",
       "      <td>18.000000</td>\n",
       "      <td>147.000000</td>\n",
       "      <td>12.0</td>\n",
       "      <td>5760.000000</td>\n",
       "      <td>4391.000000</td>\n",
       "      <td>14.000000</td>\n",
       "      <td>0.000000</td>\n",
       "      <td>31.000000</td>\n",
       "      <td>0.0</td>\n",
       "      <td>49.000000</td>\n",
       "      <td>1.127644e+07</td>\n",
       "      <td>165.000000</td>\n",
       "    </tr>\n",
       "    <tr>\n",
       "      <th>50%</th>\n",
       "      <td>52.000000</td>\n",
       "      <td>441.000000</td>\n",
       "      <td>12.0</td>\n",
       "      <td>9676.000000</td>\n",
       "      <td>7567.500000</td>\n",
       "      <td>31.500000</td>\n",
       "      <td>0.000000</td>\n",
       "      <td>86.000000</td>\n",
       "      <td>0.0</td>\n",
       "      <td>140.500000</td>\n",
       "      <td>2.001755e+08</td>\n",
       "      <td>495.500000</td>\n",
       "    </tr>\n",
       "    <tr>\n",
       "      <th>75%</th>\n",
       "      <td>77.000000</td>\n",
       "      <td>591.000000</td>\n",
       "      <td>12.0</td>\n",
       "      <td>12848.000000</td>\n",
       "      <td>9871.000000</td>\n",
       "      <td>48.000000</td>\n",
       "      <td>0.000000</td>\n",
       "      <td>127.000000</td>\n",
       "      <td>0.0</td>\n",
       "      <td>208.000000</td>\n",
       "      <td>6.107662e+08</td>\n",
       "      <td>668.000000</td>\n",
       "    </tr>\n",
       "    <tr>\n",
       "      <th>max</th>\n",
       "      <td>95.000000</td>\n",
       "      <td>839.000000</td>\n",
       "      <td>12.0</td>\n",
       "      <td>15502.000000</td>\n",
       "      <td>12017.000000</td>\n",
       "      <td>62.000000</td>\n",
       "      <td>2.000000</td>\n",
       "      <td>187.000000</td>\n",
       "      <td>0.0</td>\n",
       "      <td>247.000000</td>\n",
       "      <td>1.704032e+09</td>\n",
       "      <td>934.000000</td>\n",
       "    </tr>\n",
       "  </tbody>\n",
       "</table>\n",
       "</div>"
      ],
      "text/plain": [
       "       cantGimnasios  cantPokeparadas  tamMochila  distanciaOriginal  \\\n",
       "count    3000.000000      3000.000000      3000.0        3000.000000   \n",
       "mean       49.800000       385.033333        12.0        9125.366667   \n",
       "std        30.633415       250.684223         0.0        4149.657590   \n",
       "min         1.000000         2.000000        12.0         479.000000   \n",
       "25%        18.000000       147.000000        12.0        5760.000000   \n",
       "50%        52.000000       441.000000        12.0        9676.000000   \n",
       "75%        77.000000       591.000000        12.0       12848.000000   \n",
       "max        95.000000       839.000000        12.0       15502.000000   \n",
       "\n",
       "       distanciaNueva  cantPermutacionesParaMejorar  \\\n",
       "count     3000.000000                   3000.000000   \n",
       "mean      7028.333333                     29.933333   \n",
       "std       3220.520145                     18.955615   \n",
       "min        479.000000                      0.000000   \n",
       "25%       4391.000000                     14.000000   \n",
       "50%       7567.500000                     31.500000   \n",
       "75%       9871.000000                     48.000000   \n",
       "max      12017.000000                     62.000000   \n",
       "\n",
       "       cantPermutacionesParaMantener  cantReemplazosParaMejorar  \\\n",
       "count                    3000.000000                3000.000000   \n",
       "mean                        0.066667                  87.066667   \n",
       "std                         0.359071                  58.885352   \n",
       "min                         0.000000                   0.000000   \n",
       "25%                         0.000000                  31.000000   \n",
       "50%                         0.000000                  86.000000   \n",
       "75%                         0.000000                 127.000000   \n",
       "max                         2.000000                 187.000000   \n",
       "\n",
       "       cantReemplazosParaMantener    tamCamino        tiempo    cantNodos  \n",
       "count                      3000.0  3000.000000  3.000000e+03  3000.000000  \n",
       "mean                          0.0   133.766667  3.324739e+08   434.833333  \n",
       "std                           0.0    82.259555  3.561434e+08   278.940032  \n",
       "min                           0.0     2.000000  1.108000e+03     3.000000  \n",
       "25%                           0.0    49.000000  1.127644e+07   165.000000  \n",
       "50%                           0.0   140.500000  2.001755e+08   495.500000  \n",
       "75%                           0.0   208.000000  6.107662e+08   668.000000  \n",
       "max                           0.0   247.000000  1.704032e+09   934.000000  "
      ]
     },
     "execution_count": 6,
     "metadata": {},
     "output_type": "execute_result"
    }
   ],
   "source": [
    "permutaYReemplazaPokeparadas.describe()"
   ]
  },
  {
   "cell_type": "markdown",
   "metadata": {},
   "source": [
    "## Complejidad teórica de permutaCamino"
   ]
  },
  {
   "cell_type": "code",
   "execution_count": 7,
   "metadata": {
    "collapsed": true
   },
   "outputs": [],
   "source": [
    "permutaCamino['complejidad'] = permutaCamino['cantNodos'] * permutaCamino['cantNodos'] * permutaCamino['cantNodos'] * np.log2(permutaCamino['cantNodos'])\n",
    "permutaCamino['tiempoSobreComplejidad'] = permutaCamino['tiempo'] / permutaCamino['complejidad']"
   ]
  },
  {
   "cell_type": "code",
   "execution_count": 26,
   "metadata": {
    "collapsed": false
   },
   "outputs": [],
   "source": [
    "plt.clf()\n",
    "axis1 = plt.subplot(2,1,1)\n",
    "axis2 = plt.subplot(2,1,2)\n",
    "\n",
    "permutaCamino.groupby('cantNodos').mean()['tiempoSobreComplejidad'].plot(kind='box', ax=axis1)\n",
    "permutaCamino.groupby('cantNodos').mean()['tiempoSobreComplejidad'].plot(color='mediumorchid', linewidth = 1, kind='density', ax=axis2)\n",
    "\n",
    "axis1.set_xlabel('')\n",
    "axis1.set_ylabel(r'$\\frac{Tiempo\\ (ciclos)}{(n+m)^3 \\times log(n+m)}$')\n",
    "\n",
    "axis2.set_xlabel(r'$\\frac{Tiempo\\ (ciclos)}{(n+m)^3 \\times log(n+m)}$')\n",
    "axis2.set_ylabel('Densidad')\n",
    "\n",
    "axis1.axis([0.75, 1.25, 0, 0.35])\n",
    "axis2.axis([-15, 42, -0.01, 0.15])\n",
    "\n",
    "axis1.get_xaxis().set_visible(False)\n",
    "\n",
    "plt.rcParams.update({'font.size': 8})\n",
    "\n",
    "#plt.show()\n",
    "plt.gcf().set_size_inches(6, 4)\n",
    "plt.savefig('expAleat_complejidad_permutaCamino.pdf', format='pdf', bbox_inches = 'tight', dpi = 100)"
   ]
  },
  {
   "cell_type": "markdown",
   "metadata": {},
   "source": [
    "## Tiempo vs cantidad de nodos"
   ]
  },
  {
   "cell_type": "code",
   "execution_count": 68,
   "metadata": {
    "collapsed": false
   },
   "outputs": [],
   "source": [
    "fig, ax = plt.subplots()\n",
    "\n",
    "ax = permutaCamino.groupby('cantNodos').mean()['tiempo'].plot(color='purple', linewidth = 1)\n",
    "permutaYReemplazaPokeparadas.groupby('cantNodos').mean()['tiempo'].plot(color='indianred', linewidth = 1, ax=ax)\n",
    "\n",
    "plt.xlabel('n + m')\n",
    "plt.ylabel('Tiempo (ciclos)')\n",
    "ax.set_ylim([-100000000, 1500000000])\n",
    "plt.rcParams.update({'font.size': 8})\n",
    "\n",
    "legend = ax.legend(['Permuta el camino', 'Permuta y reemplaza pokeparadas',], loc = 'upper center', bbox_to_anchor = (0.5, -0.15), fancybox = True, shadow = True, ncol = 2)\n",
    "frame = legend.get_frame()\n",
    "frame.set_facecolor('white')\n",
    "frame.set_linewidth(0)\n",
    "\n",
    "#plt.show()\n",
    "plt.gcf().set_size_inches(6, 4)\n",
    "plt.savefig('expAleat_cantNodos_tiempo.pdf', format='pdf', bbox_inches = 'tight', dpi = 100)"
   ]
  },
  {
   "cell_type": "markdown",
   "metadata": {},
   "source": [
    "## Porcentaje de mejora\n",
    "\n",
    "porcentaje de mejora = 100 - (distanciaNueva * 100 / distanciaOriginal)"
   ]
  },
  {
   "cell_type": "code",
   "execution_count": 45,
   "metadata": {
    "collapsed": false
   },
   "outputs": [],
   "source": [
    "permutaCamino['porcentajeMejora'] = 100 - (permutaCamino['distanciaNueva'] * 100 / permutaCamino['distanciaOriginal'])\n",
    "permutaYReemplazaPokeparadas['porcentajeMejora'] = 100 - (permutaYReemplazaPokeparadas['distanciaNueva'] * 100 / permutaYReemplazaPokeparadas['distanciaOriginal'])"
   ]
  },
  {
   "cell_type": "code",
   "execution_count": 46,
   "metadata": {
    "collapsed": false
   },
   "outputs": [
    {
     "data": {
      "text/plain": [
       "count    3000.000000\n",
       "mean       11.368223\n",
       "std         3.848846\n",
       "min         0.000000\n",
       "25%         9.611772\n",
       "50%        11.933541\n",
       "75%        13.435388\n",
       "max        18.463784\n",
       "Name: porcentajeMejora, dtype: float64"
      ]
     },
     "execution_count": 46,
     "metadata": {},
     "output_type": "execute_result"
    }
   ],
   "source": [
    "permutaCamino['porcentajeMejora'].describe()"
   ]
  },
  {
   "cell_type": "code",
   "execution_count": 47,
   "metadata": {
    "collapsed": false,
    "scrolled": true
   },
   "outputs": [
    {
     "data": {
      "text/plain": [
       "count    3000.000000\n",
       "mean       21.943365\n",
       "std         6.707769\n",
       "min         0.000000\n",
       "25%        19.623809\n",
       "50%        22.840921\n",
       "75%        26.571747\n",
       "max        28.902765\n",
       "Name: porcentajeMejora, dtype: float64"
      ]
     },
     "execution_count": 47,
     "metadata": {},
     "output_type": "execute_result"
    }
   ],
   "source": [
    "permutaYReemplazaPokeparadas['porcentajeMejora'].describe()"
   ]
  },
  {
   "cell_type": "markdown",
   "metadata": {},
   "source": [
    "## \\#cambios"
   ]
  },
  {
   "cell_type": "code",
   "execution_count": 48,
   "metadata": {
    "collapsed": false
   },
   "outputs": [],
   "source": [
    "permutaCamino['cantCambios'] = permutaCamino['cantPermutacionesParaMejorar'] + permutaCamino['cantReemplazosParaMejorar'] +  permutaCamino['cantPermutacionesParaMantener'] + permutaCamino['cantReemplazosParaMantener']\n",
    "permutaYReemplazaPokeparadas['cantCambios'] = permutaYReemplazaPokeparadas['cantPermutacionesParaMejorar'] + permutaYReemplazaPokeparadas['cantReemplazosParaMejorar'] + permutaYReemplazaPokeparadas['cantPermutacionesParaMantener'] + permutaYReemplazaPokeparadas['cantReemplazosParaMantener']\n",
    "\n",
    "permutaCamino['cantCambiosSobreCantNodos'] = permutaCamino['cantCambios'] / permutaCamino['cantNodos']\n",
    "permutaYReemplazaPokeparadas['cantCambiosSobreCantNodos'] = permutaYReemplazaPokeparadas['cantCambios'] / permutaYReemplazaPokeparadas['cantNodos']"
   ]
  },
  {
   "cell_type": "code",
   "execution_count": 49,
   "metadata": {
    "collapsed": false,
    "scrolled": true
   },
   "outputs": [
    {
     "data": {
      "text/plain": [
       "count    3000.000000\n",
       "mean        0.106117\n",
       "std         0.047496\n",
       "min         0.000000\n",
       "25%         0.076923\n",
       "50%         0.105103\n",
       "75%         0.134228\n",
       "max         0.225979\n",
       "Name: cantCambiosSobreCantNodos, dtype: float64"
      ]
     },
     "execution_count": 49,
     "metadata": {},
     "output_type": "execute_result"
    }
   ],
   "source": [
    "permutaCamino['cantCambiosSobreCantNodos'].describe()"
   ]
  },
  {
   "cell_type": "code",
   "execution_count": 50,
   "metadata": {
    "collapsed": false,
    "scrolled": true
   },
   "outputs": [
    {
     "data": {
      "text/plain": [
       "count    3000.000000\n",
       "mean        0.250160\n",
       "std         0.091895\n",
       "min         0.000000\n",
       "25%         0.221344\n",
       "50%         0.266475\n",
       "75%         0.301887\n",
       "max         0.395000\n",
       "Name: cantCambiosSobreCantNodos, dtype: float64"
      ]
     },
     "execution_count": 50,
     "metadata": {},
     "output_type": "execute_result"
    }
   ],
   "source": [
    "permutaYReemplazaPokeparadas['cantCambiosSobreCantNodos'].describe()"
   ]
  },
  {
   "cell_type": "code",
   "execution_count": 66,
   "metadata": {
    "collapsed": false
   },
   "outputs": [],
   "source": [
    "plt.clf()\n",
    "axis1 = plt.subplot(2,1,1)\n",
    "axis2 = plt.subplot(2,1,2)\n",
    "\n",
    "permutaCamino.groupby('cantNodos').mean()['cantCambiosSobreCantNodos'].plot(kind='box', ax=axis1)\n",
    "permutaCamino.groupby('cantNodos').mean()['tiempoSobreComplejidad'].plot(color='mediumorchid', linewidth = 1, kind='density', ax=axis2)\n",
    "\n",
    "axis1.set_xlabel('n+m')\n",
    "axis1.set_ylabel(r'$\\frac{Tiempo\\ (ciclos)}{(n+m)^3 \\times log(n+m)}$')\n",
    "\n",
    "axis2.set_xlabel(r'$\\frac{Tiempo\\ (ciclos)}{(n+m)^3 \\times log(n+m)}$')\n",
    "axis2.set_ylabel('Densidad')\n",
    "\n",
    "axis1.axis([0.75, 1.25, 0, 0.35])\n",
    "axis2.axis([-15, 42, -0.01, 0.15])\n",
    "\n",
    "plt.rcParams.update({'font.size': 8})\n",
    "\n",
    "\n",
    "\n",
    "\n",
    "\n",
    "\n",
    "fig, ax = plt.subplots()\n",
    "\n",
    "ax = permutaCamino.groupby('cantNodos').mean()['cantCambiosSobreCantNodos'].plot(color='mediumseagreen', linewidth = 1)\n",
    "permutaYReemplazaPokeparadas.groupby('cantNodos').mean()['cantCambiosSobreCantNodos'].plot(color='cornflowerblue', linewidth = 1, ax=ax)\n",
    "\n",
    "plt.xlabel('n + m')\n",
    "plt.ylabel(r'$\\frac{\\# cambios}{n+m}$')\n",
    "ax.set_ylim([-1, 6])\n",
    "plt.rcParams.update({'font.size': 8})\n",
    "\n",
    "legend = ax.legend(['Permuta el camino', 'Permuta y reemplaza pokeparadas',], loc = 'upper center', bbox_to_anchor = (0.5, -0.15), fancybox = True, shadow = True, ncol = 2)\n",
    "frame = legend.get_frame()\n",
    "frame.set_facecolor('white')\n",
    "frame.set_linewidth(0)\n",
    "\n",
    "#plt.show()\n",
    "plt.gcf().set_size_inches(6, 4)\n",
    "plt.savefig('expAleat_cantCambios.pdf', format='pdf', bbox_inches = 'tight', dpi = 100)"
   ]
  },
  {
   "cell_type": "code",
   "execution_count": null,
   "metadata": {
    "collapsed": true
   },
   "outputs": [],
   "source": []
  }
 ],
 "metadata": {
  "kernelspec": {
   "display_name": "Python 2",
   "language": "python",
   "name": "python2"
  },
  "language_info": {
   "codemirror_mode": {
    "name": "ipython",
    "version": 2
   },
   "file_extension": ".py",
   "mimetype": "text/x-python",
   "name": "python",
   "nbconvert_exporter": "python",
   "pygments_lexer": "ipython2",
   "version": "2.7.12"
  }
 },
 "nbformat": 4,
 "nbformat_minor": 0
}
