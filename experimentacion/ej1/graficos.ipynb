{
 "cells": [
  {
   "cell_type": "code",
   "execution_count": 4,
   "metadata": {
    "collapsed": false
   },
   "outputs": [],
   "source": [
    "import pandas as pd\n",
    "import seaborn as sns\n",
    "import numpy as np\n",
    "import matplotlib.pyplot as plt\n",
    "import random\n",
    "from scipy.special import factorial"
   ]
  },
  {
   "cell_type": "code",
   "execution_count": 5,
   "metadata": {
    "collapsed": false
   },
   "outputs": [],
   "source": [
    "conHeuristica = pd.read_csv('ej1CONHEURISTICA.csv')"
   ]
  },
  {
   "cell_type": "code",
   "execution_count": 6,
   "metadata": {
    "collapsed": false
   },
   "outputs": [],
   "source": [
    "conHeuristica[\"nodos\"] = conHeuristica[\"gimnasios\"] + conHeuristica[\"paradas\"]\n",
    "conHeuristica[\"tiempoLog\"] = np.log(conHeuristica[\"tiempo\"])\n",
    "conHeuristicaLog = conHeuristica.pivot(\"dificultad\", \"nodos\", \"tiempoLog\")\n",
    "ax1 = sns.heatmap(conHeuristicaLog, annot=False, linewidths=.5)\n",
    "ax1.invert_yaxis()\n",
    "#plt.show()\n",
    "plt.rcParams.update({'font.size': 8})\n",
    "plt.gcf().set_size_inches(6, 4)\n",
    "plt.savefig('ej1_conHeuristica.pdf', format='pdf', bbox_inches = 'tight', dpi = 100)"
   ]
  },
  {
   "cell_type": "code",
   "execution_count": 7,
   "metadata": {
    "collapsed": false
   },
   "outputs": [],
   "source": [
    "sinHeuristica = pd.read_csv('ej1SINHEURISTICA.csv', dtype={\"paradas\": int, \"gimnasios\": int})"
   ]
  },
  {
   "cell_type": "code",
   "execution_count": 8,
   "metadata": {
    "collapsed": false
   },
   "outputs": [],
   "source": [
    "sinHeuristica[\"nodos\"] = sinHeuristica[\"gimnasios\"] + sinHeuristica[\"paradas\"]\n",
    "sinHeuristica[\"tiempoLog\"] = np.log(sinHeuristica[\"tiempo\"])\n",
    "sinHeuristicaLog = sinHeuristica.pivot(\"dificultad\", \"nodos\", \"tiempoLog\")\n",
    "ax2 = sns.heatmap(sinHeuristicaLog, annot=False, linewidths=.5)\n",
    "ax2.invert_yaxis()\n",
    "#plt.show()\n",
    "plt.rcParams.update({'font.size': 8})\n",
    "plt.gcf().set_size_inches(6, 4)\n",
    "plt.savefig('ej1_sinHeuristica.pdf', format='pdf', bbox_inches = 'tight', dpi = 100)"
   ]
  },
  {
   "cell_type": "code",
   "execution_count": 9,
   "metadata": {
    "collapsed": false
   },
   "outputs": [],
   "source": [
    "\n",
    "sinHeuristica[\"tiemposRestados\"] = sinHeuristica[\"tiempoLog\"] - conHeuristica[\"tiempoLog\"]\n",
    "diferencia = sinHeuristica.pivot(\"dificultad\", \"nodos\", \"tiemposRestados\")\n",
    "ax3 = sns.heatmap(diferencia, annot=False, linewidths=.5)\n",
    "ax3.invert_yaxis()\n",
    "#plt.show()\n",
    "plt.rcParams.update({'font.size': 8})\n",
    "plt.gcf().set_size_inches(6, 4)\n",
    "plt.savefig('ej1_diferenciaSinConHeuristica.pdf', format='pdf', bbox_inches = 'tight', dpi = 100)"
   ]
  },
  {
   "cell_type": "code",
   "execution_count": 11,
   "metadata": {
    "collapsed": false
   },
   "outputs": [
    {
     "ename": "ValueError",
     "evalue": "The truth value of a Series is ambiguous. Use a.empty, a.bool(), a.item(), a.any() or a.all().",
     "output_type": "error",
     "traceback": [
      "\u001b[1;31m---------------------------------------------------------------------------\u001b[0m",
      "\u001b[1;31mValueError\u001b[0m                                Traceback (most recent call last)",
      "\u001b[1;32m<ipython-input-11-fe93c53e7099>\u001b[0m in \u001b[0;36m<module>\u001b[1;34m()\u001b[0m\n\u001b[0;32m      1\u001b[0m \u001b[0msinHeuristicaFiltrado\u001b[0m \u001b[1;33m=\u001b[0m \u001b[0msinHeuristica\u001b[0m\u001b[1;33m[\u001b[0m\u001b[1;33m(\u001b[0m\u001b[0msinHeuristica\u001b[0m\u001b[1;33m[\u001b[0m\u001b[1;34m\"dificultad\"\u001b[0m\u001b[1;33m]\u001b[0m \u001b[1;33m==\u001b[0m \u001b[1;36m100\u001b[0m\u001b[1;33m)\u001b[0m\u001b[1;33m]\u001b[0m\u001b[1;33m\u001b[0m\u001b[0m\n\u001b[1;32m----> 2\u001b[1;33m \u001b[0msinHeuristicaFiltrado\u001b[0m\u001b[1;33m[\u001b[0m\u001b[1;34m\"factorial\"\u001b[0m\u001b[1;33m]\u001b[0m \u001b[1;33m=\u001b[0m \u001b[0mfactorial\u001b[0m\u001b[1;33m(\u001b[0m\u001b[0msinHeuristicaFiltrado\u001b[0m\u001b[1;33m[\u001b[0m\u001b[1;34m\"nodos\"\u001b[0m\u001b[1;33m]\u001b[0m\u001b[1;33m,\u001b[0m \u001b[0mexact\u001b[0m\u001b[1;33m=\u001b[0m\u001b[0mTrue\u001b[0m\u001b[1;33m)\u001b[0m\u001b[1;33m\u001b[0m\u001b[0m\n\u001b[0m\u001b[0;32m      3\u001b[0m \u001b[0msinHeuristicaFiltrado\u001b[0m\u001b[1;33m[\u001b[0m\u001b[1;34m\"ticks / n!\"\u001b[0m\u001b[1;33m]\u001b[0m \u001b[1;33m=\u001b[0m \u001b[0msinHeuristicaFiltrado\u001b[0m\u001b[1;33m[\u001b[0m\u001b[1;34m\"tiempo\"\u001b[0m\u001b[1;33m]\u001b[0m\u001b[1;33m/\u001b[0m\u001b[0msinHeuristicaFiltrado\u001b[0m\u001b[1;33m[\u001b[0m\u001b[1;34m\"factorial\"\u001b[0m\u001b[1;33m]\u001b[0m\u001b[1;33m\u001b[0m\u001b[0m\n\u001b[0;32m      4\u001b[0m \u001b[1;31m#rectaComplejidad = sinHeuristicaFiltrado.pivot(\"funcion\", \"nodos\")\u001b[0m\u001b[1;33m\u001b[0m\u001b[1;33m\u001b[0m\u001b[0m\n\u001b[0;32m      5\u001b[0m \u001b[1;31m#sns.plotline(rectaComplejidad)\u001b[0m\u001b[1;33m\u001b[0m\u001b[1;33m\u001b[0m\u001b[0m\n",
      "\u001b[1;32m/home/verabe/anaconda2/lib/python2.7/site-packages/scipy/special/basic.pyc\u001b[0m in \u001b[0;36mfactorial\u001b[1;34m(n, exact)\u001b[0m\n\u001b[0;32m   2146\u001b[0m     \"\"\"\n\u001b[0;32m   2147\u001b[0m     \u001b[1;32mif\u001b[0m \u001b[0mexact\u001b[0m\u001b[1;33m:\u001b[0m\u001b[1;33m\u001b[0m\u001b[0m\n\u001b[1;32m-> 2148\u001b[1;33m         \u001b[1;32mif\u001b[0m \u001b[0mn\u001b[0m \u001b[1;33m<\u001b[0m \u001b[1;36m0\u001b[0m\u001b[1;33m:\u001b[0m\u001b[1;33m\u001b[0m\u001b[0m\n\u001b[0m\u001b[0;32m   2149\u001b[0m             \u001b[1;32mreturn\u001b[0m \u001b[1;36m0\u001b[0m\u001b[1;33m\u001b[0m\u001b[0m\n\u001b[0;32m   2150\u001b[0m         \u001b[0mval\u001b[0m \u001b[1;33m=\u001b[0m \u001b[1;36m1\u001b[0m\u001b[1;33m\u001b[0m\u001b[0m\n",
      "\u001b[1;32m/home/verabe/anaconda2/lib/python2.7/site-packages/pandas/core/generic.pyc\u001b[0m in \u001b[0;36m__nonzero__\u001b[1;34m(self)\u001b[0m\n\u001b[0;32m    885\u001b[0m         raise ValueError(\"The truth value of a {0} is ambiguous. \"\n\u001b[0;32m    886\u001b[0m                          \u001b[1;34m\"Use a.empty, a.bool(), a.item(), a.any() or a.all().\"\u001b[0m\u001b[1;33m\u001b[0m\u001b[0m\n\u001b[1;32m--> 887\u001b[1;33m                          .format(self.__class__.__name__))\n\u001b[0m\u001b[0;32m    888\u001b[0m \u001b[1;33m\u001b[0m\u001b[0m\n\u001b[0;32m    889\u001b[0m     \u001b[0m__bool__\u001b[0m \u001b[1;33m=\u001b[0m \u001b[0m__nonzero__\u001b[0m\u001b[1;33m\u001b[0m\u001b[0m\n",
      "\u001b[1;31mValueError\u001b[0m: The truth value of a Series is ambiguous. Use a.empty, a.bool(), a.item(), a.any() or a.all()."
     ]
    }
   ],
   "source": [
    "sinHeuristicaFiltrado = sinHeuristica[(sinHeuristica[\"dificultad\"] == 100)]\n",
    "sinHeuristicaFiltrado[\"factorial\"] = factorial(sinHeuristicaFiltrado[\"nodos\"], exact=True)\n",
    "sinHeuristicaFiltrado[\"ticks / n!\"] = sinHeuristicaFiltrado[\"tiempo\"]/sinHeuristicaFiltrado[\"factorial\"]\n",
    "#rectaComplejidad = sinHeuristicaFiltrado.pivot(\"funcion\", \"nodos\")\n",
    "#sns.plotline(rectaComplejidad)\n",
    "ax = sinHeuristicaFiltrado.plot(x=\"nodos\", y=\"ticks / n!\")\n",
    "#ax.sinHeuristicaFiltrado.plot(x=\"nodos\", y=\"factorial\")\n",
    "#ax.set_yscale('log')\n",
    "#plt.show()\n",
    "plt.rcParams.update({'font.size': 8})\n",
    "plt.gcf().set_size_inches(6, 4)\n",
    "plt.savefig('ej1_complejidad.pdf', format='pdf', bbox_inches = 'tight', dpi = 100)"
   ]
  },
  {
   "cell_type": "code",
   "execution_count": null,
   "metadata": {
    "collapsed": true
   },
   "outputs": [],
   "source": []
  }
 ],
 "metadata": {
  "anaconda-cloud": {},
  "kernelspec": {
   "display_name": "Python 2",
   "language": "python",
   "name": "python2"
  },
  "language_info": {
   "codemirror_mode": {
    "name": "ipython",
    "version": 2
   },
   "file_extension": ".py",
   "mimetype": "text/x-python",
   "name": "python",
   "nbconvert_exporter": "python",
   "pygments_lexer": "ipython2",
   "version": "2.7.12"
  }
 },
 "nbformat": 4,
 "nbformat_minor": 1
}
