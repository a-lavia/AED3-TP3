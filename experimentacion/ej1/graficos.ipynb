{
 "cells": [
  {
   "cell_type": "code",
   "execution_count": 16,
   "metadata": {
    "collapsed": false
   },
   "outputs": [],
   "source": [
    "import pandas as pd\n",
    "import seaborn as sns\n",
    "import numpy as np\n",
    "import matplotlib.pyplot as plt\n",
    "import random\n",
    "from scipy.special import factorial"
   ]
  },
  {
   "cell_type": "code",
   "execution_count": 17,
   "metadata": {
    "collapsed": false
   },
   "outputs": [],
   "source": [
    "conHeuristica = pd.read_csv('ej1CONHEURISTICA.csv')"
   ]
  },
  {
   "cell_type": "code",
   "execution_count": 21,
   "metadata": {
    "collapsed": false
   },
   "outputs": [],
   "source": [
    "conHeuristica[\"nodos\"] = conHeuristica[\"gimnasios\"] + conHeuristica[\"paradas\"]\n",
    "conHeuristica[\"tiempoLog\"] = np.log(conHeuristica[\"tiempo\"])\n",
    "conHeuristicaLog = conHeuristica.pivot(\"dificultad\", \"nodos\", \"tiempoLog\")\n",
    "ax1 = sns.heatmap(conHeuristicaLog, annot=False, linewidths=.5)\n",
    "ax1.invert_yaxis()\n",
    "#plt.show()\n",
    "plt.rcParams.update({'font.size': 8})\n",
    "plt.gcf().set_size_inches(6, 4)\n",
    "plt.savefig('ej1_conHeuristica.pdf', format='pdf', bbox_inches = 'tight', dpi = 100)"
   ]
  },
  {
   "cell_type": "code",
   "execution_count": 25,
   "metadata": {
    "collapsed": false
   },
   "outputs": [],
   "source": [
    "sinHeuristica = pd.read_csv('ej1SINHEURISTICA.csv', dtype={\"paradas\": int, \"gimnasios\": int})"
   ]
  },
  {
   "cell_type": "code",
   "execution_count": 34,
   "metadata": {
    "collapsed": false
   },
   "outputs": [],
   "source": [
    "sinHeuristica[\"nodos\"] = sinHeuristica[\"gimnasios\"] + sinHeuristica[\"paradas\"]\n",
    "sinHeuristica[\"tiempoLog\"] = np.log(sinHeuristica[\"tiempo\"])\n",
    "sinHeuristicaLog = sinHeuristica.pivot(\"dificultad\", \"nodos\", \"tiempoLog\")\n",
    "ax2 = sns.heatmap(sinHeuristicaLog, annot=False, linewidths=.5)\n",
    "ax2.invert_yaxis()\n",
    "#plt.show()\n",
    "plt.rcParams.update({'font.size': 8})\n",
    "plt.gcf().set_size_inches(6, 4)\n",
    "plt.savefig('ej1_sinHeuristica.pdf', format='pdf', bbox_inches = 'tight', dpi = 100)"
   ]
  },
  {
   "cell_type": "code",
   "execution_count": 38,
   "metadata": {
    "collapsed": false
   },
   "outputs": [],
   "source": [
    "\n",
    "sinHeuristica[\"tiemposRestados\"] = sinHeuristica[\"tiempoLog\"] - conHeuristica[\"tiempoLog\"]\n",
    "diferencia = sinHeuristica.pivot(\"dificultad\", \"nodos\", \"tiemposRestados\")\n",
    "ax3 = sns.heatmap(diferencia, annot=False, linewidths=.5)\n",
    "ax3.invert_yaxis()\n",
    "#plt.show()\n",
    "plt.rcParams.update({'font.size': 8})\n",
    "plt.gcf().set_size_inches(6, 4)\n",
    "plt.savefig('ej1_diferenciaSinConHeuristica.pdf', format='pdf', bbox_inches = 'tight', dpi = 100)"
   ]
  },
  {
   "cell_type": "code",
   "execution_count": 64,
   "metadata": {
    "collapsed": false
   },
   "outputs": [
    {
     "name": "stderr",
     "output_type": "stream",
     "text": [
      "/home/javito/anaconda3/lib/python3.5/site-packages/ipykernel/__main__.py:2: SettingWithCopyWarning: \n",
      "A value is trying to be set on a copy of a slice from a DataFrame.\n",
      "Try using .loc[row_indexer,col_indexer] = value instead\n",
      "\n",
      "See the caveats in the documentation: http://pandas.pydata.org/pandas-docs/stable/indexing.html#indexing-view-versus-copy\n",
      "  from ipykernel import kernelapp as app\n",
      "/home/javito/anaconda3/lib/python3.5/site-packages/ipykernel/__main__.py:3: SettingWithCopyWarning: \n",
      "A value is trying to be set on a copy of a slice from a DataFrame.\n",
      "Try using .loc[row_indexer,col_indexer] = value instead\n",
      "\n",
      "See the caveats in the documentation: http://pandas.pydata.org/pandas-docs/stable/indexing.html#indexing-view-versus-copy\n",
      "  app.launch_new_instance()\n"
     ]
    }
   ],
   "source": [
    "sinHeuristicaFiltrado = sinHeuristica[(sinHeuristica[\"dificultad\"] == 100)]\n",
    "sinHeuristicaFiltrado[\"factorial\"] = factorial(sinHeuristicaFiltrado[\"nodos\"], exact=True)\n",
    "sinHeuristicaFiltrado[\"ticks / n!\"] = sinHeuristicaFiltrado[\"tiempo\"]/sinHeuristicaFiltrado[\"factorial\"]\n",
    "#rectaComplejidad = sinHeuristicaFiltrado.pivot(\"funcion\", \"nodos\")\n",
    "#sns.plotline(rectaComplejidad)\n",
    "ax = sinHeuristicaFiltrado.plot(x=\"nodos\", y=\"ticks / n!\")\n",
    "#ax.sinHeuristicaFiltrado.plot(x=\"nodos\", y=\"factorial\")\n",
    "#ax.set_yscale('log')\n",
    "#plt.show()\n",
    "plt.rcParams.update({'font.size': 8})\n",
    "plt.gcf().set_size_inches(6, 4)\n",
    "plt.savefig('ej1_complejidad.pdf', format='pdf', bbox_inches = 'tight', dpi = 100)"
   ]
  }
 ],
 "metadata": {
  "anaconda-cloud": {},
  "kernelspec": {
   "display_name": "Python [default]",
   "language": "python",
   "name": "python3"
  },
  "language_info": {
   "codemirror_mode": {
    "name": "ipython",
    "version": 3
   },
   "file_extension": ".py",
   "mimetype": "text/x-python",
   "name": "python",
   "nbconvert_exporter": "python",
   "pygments_lexer": "ipython3",
   "version": "3.5.2"
  }
 },
 "nbformat": 4,
 "nbformat_minor": 1
}
