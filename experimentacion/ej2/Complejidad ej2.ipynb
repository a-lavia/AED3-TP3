{
 "cells": [
  {
   "cell_type": "markdown",
   "metadata": {},
   "source": [
    "# Cálculo de Complejidad ej2"
   ]
  },
  {
   "cell_type": "code",
   "execution_count": 5,
   "metadata": {
    "collapsed": false
   },
   "outputs": [],
   "source": [
    "import pandas as pd\n",
    "import matplotlib.pyplot as plt\n",
    "import seaborn as sns\n",
    "import numpy as np\n",
    "from scipy import stats\n",
    "\n",
    "#plt.style.use('ggplot')"
   ]
  },
  {
   "cell_type": "markdown",
   "metadata": {},
   "source": [
    "### Lectura de archivos"
   ]
  },
  {
   "cell_type": "code",
   "execution_count": 15,
   "metadata": {
    "collapsed": false
   },
   "outputs": [],
   "source": [
    "test1 = pd.read_csv('complejidadExperimentos/test1complejidad.csv')\n",
    "test2 = pd.read_csv('complejidadExperimentos/test2complejidad.csv')\n",
    "test3 = pd.read_csv('complejidadExperimentos/test3complejidad.csv')\n",
    "test4 = pd.read_csv('complejidadExperimentos/test4complejidad.csv')\n",
    "test5 = pd.read_csv('complejidadExperimentos/test5complejidad.csv')"
   ]
  },
  {
   "cell_type": "markdown",
   "metadata": {},
   "source": [
    "### Test 1:\n",
    "Gym entre 1 y 250\n",
    "Paradas fijas = 250, mochila fija = 6, dificultad 50"
   ]
  },
  {
   "cell_type": "code",
   "execution_count": 24,
   "metadata": {
    "collapsed": false
   },
   "outputs": [
    {
     "data": {
      "text/plain": [
       "(250, 500, -50, 50)"
      ]
     },
     "execution_count": 24,
     "metadata": {},
     "output_type": "execute_result"
    }
   ],
   "source": [
    "#test1.head(250)\n",
    "gym1 = test1['gimnasios']\n",
    "paradas1 = 250\n",
    "tiempo1 = test1['cantciclos']\n",
    "df1 = pd.DataFrame()\n",
    "\n",
    "compl1 = []\n",
    "for i in range(0,250):\n",
    "    compl1.append(gym1[i]**3 + paradas1**2)\n",
    "\n",
    "tdc1 = []\n",
    "for i in range(0,250):\n",
    "    tdc1.append(tiempo1[i]/compl1[i])\n",
    "\n",
    "nodos1 = []\n",
    "for i in range(250,500):\n",
    "    nodos1.append(i)\n",
    "\n",
    "df1['Gimnasios'] = gym1\n",
    "#df1['Complejidad'] = compl1\n",
    "df1['TDC'] = tdc1\n",
    "df1['Tiempos'] = tiempo1\n",
    "df1['Nodos'] = nodos1\n",
    "df1.plot(x='Nodos', y='TDC')\n",
    "plt.ylabel('Tiempos(ciclos)/Complejidad')\n",
    "plt.axis((250,500,-50,50))\n",
    "#plt.show()\n",
    "#plt.savefig('ej2test1tiempos.pdf', format='pdf', bbox_inches = 'tight', dpi = 100)"
   ]
  },
  {
   "cell_type": "markdown",
   "metadata": {},
   "source": [
    "### Test 2:\n",
    "Paradas entre 1 y 250\n",
    "gym fijos = 250, mochila fija = 6, dificultad 50"
   ]
  },
  {
   "cell_type": "code",
   "execution_count": 21,
   "metadata": {
    "collapsed": false
   },
   "outputs": [],
   "source": [
    "#test2.head(250)\n",
    "gym2 = 250\n",
    "paradas2 = test2['paradas']\n",
    "tiempo2 = test2['cantciclos']\n",
    "df2 = pd.DataFrame()\n",
    "\n",
    "compl2 = []\n",
    "for i in range(0,250):\n",
    "    compl2.append(gym2**3 + paradas2[i]**2)\n",
    "\n",
    "tdc2 = []\n",
    "for i in range(0,250):\n",
    "    tdc2.append(tiempo2[i]/compl2[i])\n",
    "\n",
    "nodos2 = []\n",
    "for i in range(250,500):\n",
    "    nodos2.append(i)\n",
    "\n",
    "#df2['Paradas'] = paradas2\n",
    "#df2['Complejidad'] = compl2\n",
    "df2['Nodos'] = nodos2\n",
    "df2['TDC'] = tdc2\n",
    "#df2['Tiempos'] = tiempo2\n",
    "plt.clf()\n",
    "df2.plot(x='Nodos', y='TDC')\n",
    "plt.axis((250,500,10,30))\n",
    "plt.show()\n",
    "#plt.savefig('ej2tes2tiempos.pdf', format='pdf', bbox_inches = 'tight', dpi = 100)"
   ]
  },
  {
   "cell_type": "markdown",
   "metadata": {},
   "source": [
    "### Test 3:\n",
    "Instancia fija de 500 nodos - Aumentamos y disminuimos al mismo tiempo gimnasios y paradas\n",
    "mochila fija = 6, dificultad 50"
   ]
  },
  {
   "cell_type": "code",
   "execution_count": 32,
   "metadata": {
    "collapsed": false
   },
   "outputs": [],
   "source": [
    "#test3.head(250)\n",
    "gym3 = test3['gimnasios']\n",
    "paradas3 = test3['paradas']\n",
    "tiempo3 = test3['cantciclos']\n",
    "df3 = pd.DataFrame()\n",
    "\n",
    "compl3 = []\n",
    "for i in range(0,499):\n",
    "    compl3.append(gym3[i]**3 + paradas3[i]**2)\n",
    "\n",
    "tdc3 = []\n",
    "for i in range(0,499):\n",
    "    tdc3.append(tiempo3[i]/compl3[i])\n",
    "\n",
    "nodos3 = []\n",
    "for i in range(0,499):\n",
    "    nodos3.append(i)\n",
    "\n",
    "df3['Gimnasios'] = gym3\n",
    "df3['Paradas'] = paradas3\n",
    "#df3['Complejidad'] = compl3\n",
    "df3['Nodos'] = nodos3\n",
    "df3['TDC'] = tdc3\n",
    "df3['Tiempo'] = tiempo3\n",
    "plt.clf()\n",
    "df3.plot(x='Nodos', y='TDC')\n",
    "plt.axis((0,500,-10,50))\n",
    "plt.ylabel('Tiempos(ciclos)/Complejidad')\n",
    "#df3.plot(x='Gimnasios', y='Tiempo')\n",
    "#plt.show()\n",
    "plt.savefig('ej2test3iempos.pdf', format='pdf', bbox_inches = 'tight', dpi = 100)"
   ]
  },
  {
   "cell_type": "markdown",
   "metadata": {},
   "source": [
    "### Test 4:\n",
    "Aumentamos gimnasios y paradas al mismo tiempo. Hasta 500 nodos\n",
    "mochila fija = 6, dificultad 50"
   ]
  },
  {
   "cell_type": "code",
   "execution_count": 39,
   "metadata": {
    "collapsed": false
   },
   "outputs": [],
   "source": [
    "#test4.head(250)\n",
    "gym4 = test4['gimnasios']\n",
    "paradas4 = test4['paradas']\n",
    "tiempo4 = test4['cantciclos']\n",
    "df4 = pd.DataFrame()\n",
    "\n",
    "compl4 = []\n",
    "for i in range(0,250):\n",
    "    compl4.append(gym4[i]**3 + paradas4[i]**2)\n",
    "\n",
    "tdc4 = []\n",
    "for i in range(0,250):\n",
    "    tdc4.append(tiempo4[i]/compl4[i])\n",
    "\n",
    "nodos4 = []\n",
    "for i in range(0,500,2):\n",
    "    nodos4.append(i)\n",
    "\n",
    "df4['Gimnasios'] = gym4\n",
    "df4['Paradas'] = paradas4\n",
    "#df4['Complejidad'] = compl4\n",
    "df4['TDC'] = tdc4\n",
    "df4['Tiempo'] = tiempo4\n",
    "df4['Nodos'] = nodos4\n",
    "plt.clf()\n",
    "plt.ylabel('Tiempos(ciclos)/Complejidad')\n",
    "df4.plot(x='Nodos', y='TDC')\n",
    "plt.axis((0,500,-500,2000))\n",
    "#plt.show()\n",
    "plt.savefig('ej2test4iempos.pdf', format='pdf', bbox_inches = 'tight', dpi = 100)"
   ]
  },
  {
   "cell_type": "markdown",
   "metadata": {},
   "source": [
    "### Test 5:\n",
    "Dificultad entre 0 y 100\n",
    "Gym fijos = 500, Paradas fijas = 500\n",
    "mochila fija = 18"
   ]
  },
  {
   "cell_type": "code",
   "execution_count": 46,
   "metadata": {
    "collapsed": false
   },
   "outputs": [],
   "source": [
    "#test5.head(250)\n",
    "gym5 = test5['gimnasios']\n",
    "paradas5 = test5['paradas']\n",
    "tiempo5 = test5['cantciclos']\n",
    "df5 = pd.DataFrame()\n",
    "\n",
    "compl5 = []\n",
    "for i in range(0,100):\n",
    "    compl5.append(gym5[i]**3 + paradas5[i]**2)\n",
    "\n",
    "tdc5 = []\n",
    "for i in range(0,100):\n",
    "    tdc5.append(tiempo5[i]/compl5[i])\n",
    "\n",
    "dificultad = []\n",
    "for i in range(0,100):\n",
    "    dificultad.append(i)\n",
    "\n",
    "#df5['Gimnasios'] = gym5\n",
    "#df5['Paradas'] = paradas5\n",
    "df5['Dificultad'] = dificultad\n",
    "#df5['Complejidad'] = compl5\n",
    "df5['TDC'] = tdc5\n",
    "#df5['Tiempo'] = tiempo5\n",
    "plt.clf()\n",
    "df5.plot(x='Dificultad', y='TDC')\n",
    "plt.axis((0,100,0,50))\n",
    "plt.ylabel('Tiempos(ciclos)/Complejidad')\n",
    "#plt.show()\n",
    "plt.savefig('ej2test5iempos.pdf', format='pdf', bbox_inches = 'tight', dpi = 100)"
   ]
  }
 ],
 "metadata": {
  "kernelspec": {
   "display_name": "Python 2",
   "language": "python",
   "name": "python2"
  },
  "language_info": {
   "codemirror_mode": {
    "name": "ipython",
    "version": 2
   },
   "file_extension": ".py",
   "mimetype": "text/x-python",
   "name": "python",
   "nbconvert_exporter": "python",
   "pygments_lexer": "ipython2",
   "version": "2.7.12"
  }
 },
 "nbformat": 4,
 "nbformat_minor": 1
}
